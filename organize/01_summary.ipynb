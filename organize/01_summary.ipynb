{
 "cells": [
  {
   "cell_type": "markdown",
   "metadata": {},
   "source": [
    "### The Data Science Process\n",
    "\n",
    "**01** Problem Statement  \n",
    "**02** Data Cleaning and EDA  \n",
    "**03** Preprocessing and Modeling  \n",
    "**04** Evaluation and Conceptual Understanding  \n",
    "**05** Conclusion and Recommendations  \n",
    "\n",
    "### Organization and Professionalism\n",
    "\n",
    "**Project Organization**\n",
    "- [x] Are modules imported correctly (using appropriate aliases)?\n",
    "- [x] Are data imported/saved using relative paths?\n",
    "- [ ] Does the README provide a good executive summary of the project?\n",
    "- [x] Is markdown formatting used appropriately to structure notebooks?\n",
    "- [x] Are there an appropriate amount of comments to support the code?\n",
    "- [x] Are files & directories organized correctly?\n",
    "- [ ] Are there unnecessary files included?\n",
    "- [x] Do files and directories have well-structured, appropriate, consistent names?\n",
    "\n",
    "**Visualizations**\n",
    "- [ ] Are sufficient visualizations provided?\n",
    "- [ ] Do plots accurately demonstrate valid relationships?\n",
    "- [ ] Are plots labeled properly?\n",
    "- [ ] Are plots interpreted appropriately?\n",
    "- [ ] Are plots formatted and scaled appropriately for inclusion in a notebook-based technical report?\n",
    "\n",
    "**Python Syntax and Control Flow**\n",
    "- [ ] Is care taken to write human readable code?\n",
    "- [ ] Is the code syntactically correct (no runtime errors)?\n",
    "- [ ] Does the code generate desired results (logically correct)?\n",
    "- [ ] Does the code follows general best practices and style guidelines?\n",
    "- [ ] Are Pandas functions used appropriately?\n",
    "- [ ] Are `sklearn` methods used appropriately?\n",
    "\n",
    "**Presentation**\n",
    "- [ ] Is the problem statement clearly presented?\n",
    "- [ ] Does a strong narrative run through the presentation building toward a final conclusion?\n",
    "- [ ] Are the conclusions/recommendations clearly stated?\n",
    "- [ ] Is the level of technicality appropriate for the intended audience?\n",
    "- [ ] Is the student substantially over or under time?\n",
    "- [ ] Does the student appropriately pace their presentation?\n",
    "- [ ] Does the student deliver their message with clarity and volume?\n",
    "- [ ] Are appropriate visualizations generated for the intended audience?\n",
    "- [ ] Are visualizations necessary and useful for supporting conclusions/explaining findings?"
   ]
  },
  {
   "cell_type": "markdown",
   "metadata": {},
   "source": [
    "| Task | Description | % Complete |\n",
    "| :--- | :----: | ---:|\n",
    "| Problem Statement | | |\n",
    "| Goal | | |\n",
    "| Data Collection | | |"
   ]
  },
  {
   "cell_type": "code",
   "execution_count": null,
   "metadata": {},
   "outputs": [],
   "source": []
  },
  {
   "cell_type": "code",
   "execution_count": null,
   "metadata": {},
   "outputs": [],
   "source": []
  },
  {
   "cell_type": "code",
   "execution_count": null,
   "metadata": {},
   "outputs": [],
   "source": []
  },
  {
   "cell_type": "markdown",
   "metadata": {},
   "source": [
    "# **01** Problem Statement\n",
    "- [ ] Is it clear what the student plans to do?\n",
    "- [ ] What type of model will be developed?\n",
    "- [ ] How will success be evaluated?\n",
    "- [ ] Is the scope of the project appropriate?\n",
    "- [ ] Is it clear who cares about this or why this is important to investigate?\n",
    "- [ ] Does the student consider the audience and the primary and secondary stakeholders?"
   ]
  },
  {
   "cell_type": "markdown",
   "metadata": {},
   "source": [
    "### Problem & Goal\n",
    "###### **PREDICTING FUTURE PLANE PRICES BY MARKET/ROUTE & MONTH (USA)**\n",
    "- Often we are limited by the scope of our mind to determine travel destinations.  For instance, we pick a vacation destination we have knowledge about or a place our friends have visited, and then look into ways of executing that specific plan.  We end up spending  a significant amount of time fitting these plans to our budget.  \n",
    "\n",
    "- But there are many other options.  Wouldn’t it be amazing to predict the highest value flights based on your specific budget and time window?\n",
    "Our product aims to bring transparency into potential vacation destinations and offer an opportunity to identify a travel destination you may not have previously considered while adhering to your budget and time constraints.\n",
    "\n",
    "###### **METHODS / MODELS**\n",
    "- Linear Time Series Modeling\n",
    "- Mutlivariate Time Series Modeling (VAR)\n",
    "- Seasonal / ARIMA Modeling\n",
    "- SGD Regression\n",
    "\n",
    "###### **EVALUATION**\n",
    "- Predicting Future Airline Prices by Market / Month\n",
    "- Benchmark R2 - 20% increase over baseline model\n",
    "- Benchmark MSE\n"
   ]
  },
  {
   "cell_type": "markdown",
   "metadata": {},
   "source": [
    "# **02** Data Cleaning and EDA\n",
    "- [x] Are missing values imputed appropriately?\n",
    "- [ ] Are distributions examined and described?\n",
    "- [ ] Are outliers identified and addressed?\n",
    "- [ ] Are appropriate summary statistics provided?\n",
    "- [ ] Are steps taken during data cleaning and EDA framed appropriately?\n",
    "- [ ] Does the student address whether or not they are likely to be able to answer their problem statement with the provided data given what they've discovered during EDA?"
   ]
  },
  {
   "cell_type": "markdown",
   "metadata": {},
   "source": [
    "### Data Collection\n",
    "###### **Sources**\n",
    "- [**Historical Jet Fuel Prices**](https://www.eia.gov/opendata/qb.php?sdid=PET.EER_EPJK_PF4_RGC_DPG.M) \n",
    "    - Data showcases the price of Jet Fuel in US Dollars.\n",
    "    - Data separated by month.\n",
    "    - Data collected ranges from April 1990 to August 2020.\n",
    "- [**Top 1,000 Contiguous State City-Pair Markets**](https://data.transportation.gov/Aviation/Consumer-Airfare-Report-Table-1-Top-1-000-Contiguo/4f3n-jbg2)\n",
    "    - Data showcases the average airfare per route separated by origin and destination city for the 48 USA landlocked states.\n",
    "    - Data separated by quarter.\n",
    "    - Data collected ranges from Q1 1996 to Q3 2019.\n",
    "- [**US Domestic Flights**](https://academictorrents.com/details/a2ccf94bbb4af222bf8e69dad60a68a29f310d9a)\n",
    "    - Data showcases the airline flight data including route by city, route by airport, passengers, number of flights, total seats available, distance, and population.\n",
    "    - Data separated by month.\n",
    "    - Data collected ranges from January 1990 to December 2009."
   ]
  },
  {
   "cell_type": "markdown",
   "metadata": {},
   "source": [
    "### Data Cleaning / Merging\n",
    "- Clean \n",
    "    - Historical Jet Fuel Prices\n",
    "        - Saved as variable 'fuel'\n",
    "        - DatetimeIndex created\n",
    "    - Top 1,000 Contiguous State City-Pair Markets\n",
    "        - Saved as variable 'airfare'\n",
    "        - DatetimeIndex created\n",
    "        - Identify matching routes\n",
    "        - Changed city names to match city names from different dataset\n",
    "    - US Domestic Flights\n",
    "        - Saved as variable 'flights'\n",
    "        - DatetimeIndex created  \n",
    "- Merge\n",
    "    - Combine US Domestic Flights (left) & Top 1,000 Contiguous State City-Pair Markets.\n",
    "    - Left join on route, quarter, and year to preserve shape of US Domestic Flights.\n",
    "        - **Imputation:** airfare route pricing data was gathered on a quarterly basis, therefore the same value was imputed for each month of the corresponding quarter.\n",
    "    - Resulting dataframe contain 381 different routes over 168 months.\n",
    "        - Dataset is by month and ranges from the beginning of 1996 to end of 2009.\n",
    "\n"
   ]
  },
  {
   "cell_type": "markdown",
   "metadata": {},
   "source": [
    "# **03** Preprocessing and Modeling\n",
    "- [ ] Are categorical variables one-hot encoded?\n",
    "- [ ] Does the student investigate or manufacture features with linear relationships to the target?\n",
    "- [ ] Have the data been scaled appropriately?\n",
    "- [ ] Does the student properly split and/or sample the data for validation/training purposes?\n",
    "- [ ] Does the student utilize feature selection to remove noisy or multi-collinear features?\n",
    "- [ ] Does the student test and evaluate a variety of models to identify a production algorithm (**AT MINIMUM:** linear regression, lasso, and ridge)?\n",
    "- [ ] Does the student defend their choice of production model relevant to the data at hand and the problem?\n",
    "- [ ] Does the student explain how the model works and evaluate its performance successes/downfalls?"
   ]
  },
  {
   "cell_type": "markdown",
   "metadata": {},
   "source": [
    "# **04** Evaluation and Conceptual Understanding\n",
    "- [ ] Does the student accurately identify and explain the baseline score?\n",
    "- [ ] Does the student select and use metrics relevant to the problem objective?\n",
    "- [ ] Is more than one metric utilized in order to better assess performance?\n",
    "- [ ] Does the student interpret the results of their model for purposes of inference?\n",
    "- [ ] Is domain knowledge demonstrated when interpreting results?\n",
    "- [ ] Does the student provide appropriate interpretation with regards to descriptive and inferential statistics?"
   ]
  },
  {
   "cell_type": "markdown",
   "metadata": {},
   "source": [
    "# **05** Conclusion and Recommendations\n",
    "- [ ] Does the student provide appropriate context to connect individual steps back to the overall project?\n",
    "- [ ] Is it clear how the final recommendations were reached?\n",
    "- [ ] Are the conclusions/recommendations clearly stated?\n",
    "- [ ] Does the conclusion answer the original problem statement?\n",
    "- [ ] Does the student address how findings of this research can be applied for the benefit of stakeholders?\n",
    "- [ ] Are future steps to move the project forward identified?"
   ]
  },
  {
   "cell_type": "code",
   "execution_count": null,
   "metadata": {},
   "outputs": [],
   "source": []
  }
 ],
 "metadata": {
  "kernelspec": {
   "display_name": "Python 3",
   "language": "python",
   "name": "python3"
  },
  "language_info": {
   "codemirror_mode": {
    "name": "ipython",
    "version": 3
   },
   "file_extension": ".py",
   "mimetype": "text/x-python",
   "name": "python",
   "nbconvert_exporter": "python",
   "pygments_lexer": "ipython3",
   "version": "3.6.10"
  }
 },
 "nbformat": 4,
 "nbformat_minor": 4
}
