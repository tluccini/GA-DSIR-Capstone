{
 "cells": [
  {
   "cell_type": "markdown",
   "metadata": {},
   "source": [
    "# in this dataset I will be combining all of my data to get ready for EDA & pre-processing"
   ]
  },
  {
   "cell_type": "code",
   "execution_count": 2,
   "metadata": {},
   "outputs": [],
   "source": [
    "import pandas as pd"
   ]
  },
  {
   "cell_type": "markdown",
   "metadata": {},
   "source": [
    "### Read in 3 datasets"
   ]
  },
  {
   "cell_type": "code",
   "execution_count": 3,
   "metadata": {},
   "outputs": [
    {
     "data": {
      "text/html": [
       "<div>\n",
       "<style scoped>\n",
       "    .dataframe tbody tr th:only-of-type {\n",
       "        vertical-align: middle;\n",
       "    }\n",
       "\n",
       "    .dataframe tbody tr th {\n",
       "        vertical-align: top;\n",
       "    }\n",
       "\n",
       "    .dataframe thead th {\n",
       "        text-align: right;\n",
       "    }\n",
       "</style>\n",
       "<table border=\"1\" class=\"dataframe\">\n",
       "  <thead>\n",
       "    <tr style=\"text-align: right;\">\n",
       "      <th></th>\n",
       "      <th>year-month</th>\n",
       "      <th>market_city</th>\n",
       "      <th>Passengers</th>\n",
       "      <th>Seats</th>\n",
       "      <th>Flights</th>\n",
       "      <th>Distance</th>\n",
       "      <th>Origin Population</th>\n",
       "      <th>Destination Population</th>\n",
       "    </tr>\n",
       "  </thead>\n",
       "  <tbody>\n",
       "    <tr>\n",
       "      <th>0</th>\n",
       "      <td>1990-01-31</td>\n",
       "      <td>Abilene, TX - Dallas, TX</td>\n",
       "      <td>741</td>\n",
       "      <td>1018</td>\n",
       "      <td>7</td>\n",
       "      <td>158.0</td>\n",
       "      <td>147700</td>\n",
       "      <td>8019250</td>\n",
       "    </tr>\n",
       "    <tr>\n",
       "      <th>1</th>\n",
       "      <td>1990-01-31</td>\n",
       "      <td>Akron, OH - Atlanta, GA</td>\n",
       "      <td>3742</td>\n",
       "      <td>5610</td>\n",
       "      <td>56</td>\n",
       "      <td>528.0</td>\n",
       "      <td>658558</td>\n",
       "      <td>3087755</td>\n",
       "    </tr>\n",
       "    <tr>\n",
       "      <th>2</th>\n",
       "      <td>1990-01-31</td>\n",
       "      <td>Akron, OH - Birmingham, AL</td>\n",
       "      <td>75</td>\n",
       "      <td>99</td>\n",
       "      <td>1</td>\n",
       "      <td>585.0</td>\n",
       "      <td>658558</td>\n",
       "      <td>958585</td>\n",
       "    </tr>\n",
       "    <tr>\n",
       "      <th>3</th>\n",
       "      <td>1990-01-31</td>\n",
       "      <td>Akron, OH - Chicago, IL</td>\n",
       "      <td>7863</td>\n",
       "      <td>20688</td>\n",
       "      <td>170</td>\n",
       "      <td>344.0</td>\n",
       "      <td>658558</td>\n",
       "      <td>16395048</td>\n",
       "    </tr>\n",
       "    <tr>\n",
       "      <th>4</th>\n",
       "      <td>1990-01-31</td>\n",
       "      <td>Akron, OH - Cleveland, OH</td>\n",
       "      <td>0</td>\n",
       "      <td>123</td>\n",
       "      <td>1</td>\n",
       "      <td>40.0</td>\n",
       "      <td>658558</td>\n",
       "      <td>2103367</td>\n",
       "    </tr>\n",
       "  </tbody>\n",
       "</table>\n",
       "</div>"
      ],
      "text/plain": [
       "   year-month                 market_city  Passengers  Seats  Flights  \\\n",
       "0  1990-01-31    Abilene, TX - Dallas, TX         741   1018        7   \n",
       "1  1990-01-31     Akron, OH - Atlanta, GA        3742   5610       56   \n",
       "2  1990-01-31  Akron, OH - Birmingham, AL          75     99        1   \n",
       "3  1990-01-31     Akron, OH - Chicago, IL        7863  20688      170   \n",
       "4  1990-01-31   Akron, OH - Cleveland, OH           0    123        1   \n",
       "\n",
       "   Distance  Origin Population  Destination Population  \n",
       "0     158.0             147700                 8019250  \n",
       "1     528.0             658558                 3087755  \n",
       "2     585.0             658558                  958585  \n",
       "3     344.0             658558                16395048  \n",
       "4      40.0             658558                 2103367  "
      ]
     },
     "execution_count": 3,
     "metadata": {},
     "output_type": "execute_result"
    }
   ],
   "source": [
    "flights = pd.read_csv('./data/clean/flightdata_city_bymonth.csv')\n",
    "flights.head()"
   ]
  },
  {
   "cell_type": "code",
   "execution_count": 4,
   "metadata": {},
   "outputs": [
    {
     "data": {
      "text/html": [
       "<div>\n",
       "<style scoped>\n",
       "    .dataframe tbody tr th:only-of-type {\n",
       "        vertical-align: middle;\n",
       "    }\n",
       "\n",
       "    .dataframe tbody tr th {\n",
       "        vertical-align: top;\n",
       "    }\n",
       "\n",
       "    .dataframe thead th {\n",
       "        text-align: right;\n",
       "    }\n",
       "</style>\n",
       "<table border=\"1\" class=\"dataframe\">\n",
       "  <thead>\n",
       "    <tr style=\"text-align: right;\">\n",
       "      <th></th>\n",
       "      <th>year-month</th>\n",
       "      <th>fuel_usd_pergallon</th>\n",
       "    </tr>\n",
       "  </thead>\n",
       "  <tbody>\n",
       "    <tr>\n",
       "      <th>0</th>\n",
       "      <td>1990-04-30</td>\n",
       "      <td>0.540</td>\n",
       "    </tr>\n",
       "    <tr>\n",
       "      <th>1</th>\n",
       "      <td>1990-05-31</td>\n",
       "      <td>0.515</td>\n",
       "    </tr>\n",
       "    <tr>\n",
       "      <th>2</th>\n",
       "      <td>1990-06-30</td>\n",
       "      <td>0.494</td>\n",
       "    </tr>\n",
       "    <tr>\n",
       "      <th>3</th>\n",
       "      <td>1990-07-31</td>\n",
       "      <td>0.535</td>\n",
       "    </tr>\n",
       "    <tr>\n",
       "      <th>4</th>\n",
       "      <td>1990-08-31</td>\n",
       "      <td>0.791</td>\n",
       "    </tr>\n",
       "  </tbody>\n",
       "</table>\n",
       "</div>"
      ],
      "text/plain": [
       "   year-month  fuel_usd_pergallon\n",
       "0  1990-04-30               0.540\n",
       "1  1990-05-31               0.515\n",
       "2  1990-06-30               0.494\n",
       "3  1990-07-31               0.535\n",
       "4  1990-08-31               0.791"
      ]
     },
     "execution_count": 4,
     "metadata": {},
     "output_type": "execute_result"
    }
   ],
   "source": [
    "fuel = pd.read_csv('./data/clean/fuelpricing_bymonth.csv')\n",
    "fuel.head()"
   ]
  },
  {
   "cell_type": "code",
   "execution_count": 5,
   "metadata": {},
   "outputs": [
    {
     "data": {
      "text/html": [
       "<div>\n",
       "<style scoped>\n",
       "    .dataframe tbody tr th:only-of-type {\n",
       "        vertical-align: middle;\n",
       "    }\n",
       "\n",
       "    .dataframe tbody tr th {\n",
       "        vertical-align: top;\n",
       "    }\n",
       "\n",
       "    .dataframe thead th {\n",
       "        text-align: right;\n",
       "    }\n",
       "</style>\n",
       "<table border=\"1\" class=\"dataframe\">\n",
       "  <thead>\n",
       "    <tr style=\"text-align: right;\">\n",
       "      <th></th>\n",
       "      <th>year-month</th>\n",
       "      <th>market_city</th>\n",
       "      <th>city1</th>\n",
       "      <th>city2</th>\n",
       "      <th>fare</th>\n",
       "    </tr>\n",
       "  </thead>\n",
       "  <tbody>\n",
       "    <tr>\n",
       "      <th>0</th>\n",
       "      <td>1996-03-31</td>\n",
       "      <td>Hartford, CT - West Palm Beach/Palm Beach, FL</td>\n",
       "      <td>Hartford, CT</td>\n",
       "      <td>West Palm Beach/Palm Beach, FL</td>\n",
       "      <td>129.20</td>\n",
       "    </tr>\n",
       "    <tr>\n",
       "      <th>1</th>\n",
       "      <td>1996-03-31</td>\n",
       "      <td>Minneapolis/St. Paul, MN - San Francisco, CA (...</td>\n",
       "      <td>Minneapolis/St. Paul, MN</td>\n",
       "      <td>San Francisco, CA (Metropolitan Area)</td>\n",
       "      <td>290.73</td>\n",
       "    </tr>\n",
       "    <tr>\n",
       "      <th>2</th>\n",
       "      <td>1996-03-31</td>\n",
       "      <td>Cincinnati, OH - Tampa, FL (Metropolitan Area)</td>\n",
       "      <td>Cincinnati, OH</td>\n",
       "      <td>Tampa, FL (Metropolitan Area)</td>\n",
       "      <td>153.17</td>\n",
       "    </tr>\n",
       "    <tr>\n",
       "      <th>3</th>\n",
       "      <td>1996-03-31</td>\n",
       "      <td>Denver, CO - Portland, OR</td>\n",
       "      <td>Denver, CO</td>\n",
       "      <td>Portland, OR</td>\n",
       "      <td>240.01</td>\n",
       "    </tr>\n",
       "    <tr>\n",
       "      <th>4</th>\n",
       "      <td>1996-03-31</td>\n",
       "      <td>Los Angeles, CA (Metropolitan Area) - Phoenix, AZ</td>\n",
       "      <td>Los Angeles, CA (Metropolitan Area)</td>\n",
       "      <td>Phoenix, AZ</td>\n",
       "      <td>73.67</td>\n",
       "    </tr>\n",
       "  </tbody>\n",
       "</table>\n",
       "</div>"
      ],
      "text/plain": [
       "   year-month                                        market_city  \\\n",
       "0  1996-03-31      Hartford, CT - West Palm Beach/Palm Beach, FL   \n",
       "1  1996-03-31  Minneapolis/St. Paul, MN - San Francisco, CA (...   \n",
       "2  1996-03-31     Cincinnati, OH - Tampa, FL (Metropolitan Area)   \n",
       "3  1996-03-31                          Denver, CO - Portland, OR   \n",
       "4  1996-03-31  Los Angeles, CA (Metropolitan Area) - Phoenix, AZ   \n",
       "\n",
       "                                 city1                                  city2  \\\n",
       "0                         Hartford, CT         West Palm Beach/Palm Beach, FL   \n",
       "1             Minneapolis/St. Paul, MN  San Francisco, CA (Metropolitan Area)   \n",
       "2                       Cincinnati, OH          Tampa, FL (Metropolitan Area)   \n",
       "3                           Denver, CO                           Portland, OR   \n",
       "4  Los Angeles, CA (Metropolitan Area)                            Phoenix, AZ   \n",
       "\n",
       "     fare  \n",
       "0  129.20  \n",
       "1  290.73  \n",
       "2  153.17  \n",
       "3  240.01  \n",
       "4   73.67  "
      ]
     },
     "execution_count": 5,
     "metadata": {},
     "output_type": "execute_result"
    }
   ],
   "source": [
    "airfare = pd.read_csv('./data/clean/routepricing_byquarter.csv')\n",
    "airfare.head()"
   ]
  },
  {
   "cell_type": "markdown",
   "metadata": {},
   "source": [
    "### Set datetime as index on all dataframes"
   ]
  },
  {
   "cell_type": "code",
   "execution_count": 6,
   "metadata": {},
   "outputs": [],
   "source": [
    "flights = flights.set_index('year-month').sort_index()\n",
    "fuel = fuel.set_index('year-month').sort_index()\n",
    "airfare = airfare.set_index('year-month').sort_index()"
   ]
  },
  {
   "cell_type": "markdown",
   "metadata": {},
   "source": [
    "### market_city must match on flights & airfare df's"
   ]
  },
  {
   "cell_type": "code",
   "execution_count": 7,
   "metadata": {},
   "outputs": [
    {
     "name": "stdout",
     "output_type": "stream",
     "text": [
      "flights shape: (1051957, 7)\n",
      "fuel shape: (365, 1)\n",
      "airfare shape: (95023, 4)\n"
     ]
    }
   ],
   "source": [
    "print(f'flights shape: {flights.shape}')\n",
    "print(f'fuel shape: {fuel.shape}')\n",
    "print(f'airfare shape: {airfare.shape}')"
   ]
  },
  {
   "cell_type": "code",
   "execution_count": 8,
   "metadata": {},
   "outputs": [
    {
     "name": "stdout",
     "output_type": "stream",
     "text": [
      "# of Routes with Pricing Data: 1629\n"
     ]
    }
   ],
   "source": [
    "# How many unique routes do we have pricing data for?\n",
    "print(f'# of Routes with Pricing Data: {len(airfare.market_city.unique())}')"
   ]
  },
  {
   "cell_type": "code",
   "execution_count": 9,
   "metadata": {},
   "outputs": [
    {
     "data": {
      "text/plain": [
       "['Albany, NY - Chicago, IL',\n",
       " 'Albany, NY - Orlando, FL',\n",
       " 'Albany, NY - Washington, DC (Metropolitan Area)',\n",
       " 'Albuquerque, NM - Chicago, IL',\n",
       " 'Albuquerque, NM - Dallas/Fort Worth, TX',\n",
       " 'Albuquerque, NM - Denver, CO',\n",
       " 'Albuquerque, NM - Houston, TX',\n",
       " 'Albuquerque, NM - Las Vegas, NV',\n",
       " 'Albuquerque, NM - Los Angeles, CA (Metropolitan Area)',\n",
       " 'Albuquerque, NM - New York City, NY (Metropolitan Area)']"
      ]
     },
     "execution_count": 9,
     "metadata": {},
     "output_type": "execute_result"
    }
   ],
   "source": [
    "# Identify unique markets to potentially model\n",
    "\n",
    "# Create dataframe out of value_counts values\n",
    "price_count = pd.DataFrame(airfare.market_city.value_counts()).reset_index()\n",
    "\n",
    "# Filter dataframe to include only those with 95 - this means all data available for every quarter then save as list\n",
    "price_count = list(sorted(list(price_count[price_count['market_city'] == 95]['index'])))\n",
    "price_count[:10]"
   ]
  },
  {
   "cell_type": "code",
   "execution_count": 10,
   "metadata": {},
   "outputs": [
    {
     "data": {
      "text/html": [
       "<div>\n",
       "<style scoped>\n",
       "    .dataframe tbody tr th:only-of-type {\n",
       "        vertical-align: middle;\n",
       "    }\n",
       "\n",
       "    .dataframe tbody tr th {\n",
       "        vertical-align: top;\n",
       "    }\n",
       "\n",
       "    .dataframe thead th {\n",
       "        text-align: right;\n",
       "    }\n",
       "</style>\n",
       "<table border=\"1\" class=\"dataframe\">\n",
       "  <thead>\n",
       "    <tr style=\"text-align: right;\">\n",
       "      <th></th>\n",
       "      <th>market_city</th>\n",
       "      <th>city1</th>\n",
       "      <th>city2</th>\n",
       "      <th>fare</th>\n",
       "    </tr>\n",
       "    <tr>\n",
       "      <th>year-month</th>\n",
       "      <th></th>\n",
       "      <th></th>\n",
       "      <th></th>\n",
       "      <th></th>\n",
       "    </tr>\n",
       "  </thead>\n",
       "  <tbody>\n",
       "    <tr>\n",
       "      <th>1996-03-31</th>\n",
       "      <td>Minneapolis/St. Paul, MN - San Francisco, CA (...</td>\n",
       "      <td>Minneapolis/St. Paul, MN</td>\n",
       "      <td>San Francisco, CA (Metropolitan Area)</td>\n",
       "      <td>290.73</td>\n",
       "    </tr>\n",
       "    <tr>\n",
       "      <th>1996-03-31</th>\n",
       "      <td>Cincinnati, OH - Tampa, FL (Metropolitan Area)</td>\n",
       "      <td>Cincinnati, OH</td>\n",
       "      <td>Tampa, FL (Metropolitan Area)</td>\n",
       "      <td>153.17</td>\n",
       "    </tr>\n",
       "    <tr>\n",
       "      <th>1996-03-31</th>\n",
       "      <td>Denver, CO - Portland, OR</td>\n",
       "      <td>Denver, CO</td>\n",
       "      <td>Portland, OR</td>\n",
       "      <td>240.01</td>\n",
       "    </tr>\n",
       "    <tr>\n",
       "      <th>1996-03-31</th>\n",
       "      <td>Los Angeles, CA (Metropolitan Area) - Phoenix, AZ</td>\n",
       "      <td>Los Angeles, CA (Metropolitan Area)</td>\n",
       "      <td>Phoenix, AZ</td>\n",
       "      <td>73.67</td>\n",
       "    </tr>\n",
       "    <tr>\n",
       "      <th>1996-03-31</th>\n",
       "      <td>Atlantic City, NJ - Miami, FL (Metropolitan Area)</td>\n",
       "      <td>Atlantic City, NJ</td>\n",
       "      <td>Miami, FL (Metropolitan Area)</td>\n",
       "      <td>96.28</td>\n",
       "    </tr>\n",
       "  </tbody>\n",
       "</table>\n",
       "</div>"
      ],
      "text/plain": [
       "                                                  market_city  \\\n",
       "year-month                                                      \n",
       "1996-03-31  Minneapolis/St. Paul, MN - San Francisco, CA (...   \n",
       "1996-03-31     Cincinnati, OH - Tampa, FL (Metropolitan Area)   \n",
       "1996-03-31                          Denver, CO - Portland, OR   \n",
       "1996-03-31  Los Angeles, CA (Metropolitan Area) - Phoenix, AZ   \n",
       "1996-03-31  Atlantic City, NJ - Miami, FL (Metropolitan Area)   \n",
       "\n",
       "                                          city1  \\\n",
       "year-month                                        \n",
       "1996-03-31             Minneapolis/St. Paul, MN   \n",
       "1996-03-31                       Cincinnati, OH   \n",
       "1996-03-31                           Denver, CO   \n",
       "1996-03-31  Los Angeles, CA (Metropolitan Area)   \n",
       "1996-03-31                    Atlantic City, NJ   \n",
       "\n",
       "                                            city2    fare  \n",
       "year-month                                                 \n",
       "1996-03-31  San Francisco, CA (Metropolitan Area)  290.73  \n",
       "1996-03-31          Tampa, FL (Metropolitan Area)  153.17  \n",
       "1996-03-31                           Portland, OR  240.01  \n",
       "1996-03-31                            Phoenix, AZ   73.67  \n",
       "1996-03-31          Miami, FL (Metropolitan Area)   96.28  "
      ]
     },
     "execution_count": 10,
     "metadata": {},
     "output_type": "execute_result"
    }
   ],
   "source": [
    "airfare = airfare.loc[airfare['market_city'].isin(price_count)]\n",
    "airfare.head()"
   ]
  },
  {
   "cell_type": "code",
   "execution_count": 11,
   "metadata": {},
   "outputs": [
    {
     "data": {
      "text/plain": [
       "632"
      ]
     },
     "execution_count": 11,
     "metadata": {},
     "output_type": "execute_result"
    }
   ],
   "source": [
    "# Unique routes we have full airfare/pricing data for\n",
    "len(airfare.market_city.unique())"
   ]
  },
  {
   "cell_type": "code",
   "execution_count": 12,
   "metadata": {},
   "outputs": [
    {
     "data": {
      "text/plain": [
       "30331"
      ]
     },
     "execution_count": 12,
     "metadata": {},
     "output_type": "execute_result"
    }
   ],
   "source": [
    "# Unique routes we have data for\n",
    "len(sorted(flights.market_city.unique()))"
   ]
  },
  {
   "cell_type": "code",
   "execution_count": 13,
   "metadata": {},
   "outputs": [],
   "source": [
    "flights['city1'] = flights['market_city'].apply(lambda x: x.split(' - ')[0])\n",
    "flights['city2'] = flights['market_city'].apply(lambda x: x.split(' - ')[1])"
   ]
  },
  {
   "cell_type": "code",
   "execution_count": 14,
   "metadata": {},
   "outputs": [
    {
     "name": "stdout",
     "output_type": "stream",
     "text": [
      "(1051957, 9)\n"
     ]
    },
    {
     "data": {
      "text/html": [
       "<div>\n",
       "<style scoped>\n",
       "    .dataframe tbody tr th:only-of-type {\n",
       "        vertical-align: middle;\n",
       "    }\n",
       "\n",
       "    .dataframe tbody tr th {\n",
       "        vertical-align: top;\n",
       "    }\n",
       "\n",
       "    .dataframe thead th {\n",
       "        text-align: right;\n",
       "    }\n",
       "</style>\n",
       "<table border=\"1\" class=\"dataframe\">\n",
       "  <thead>\n",
       "    <tr style=\"text-align: right;\">\n",
       "      <th></th>\n",
       "      <th>market_city</th>\n",
       "      <th>Passengers</th>\n",
       "      <th>Seats</th>\n",
       "      <th>Flights</th>\n",
       "      <th>Distance</th>\n",
       "      <th>Origin Population</th>\n",
       "      <th>Destination Population</th>\n",
       "      <th>city1</th>\n",
       "      <th>city2</th>\n",
       "    </tr>\n",
       "    <tr>\n",
       "      <th>year-month</th>\n",
       "      <th></th>\n",
       "      <th></th>\n",
       "      <th></th>\n",
       "      <th></th>\n",
       "      <th></th>\n",
       "      <th></th>\n",
       "      <th></th>\n",
       "      <th></th>\n",
       "      <th></th>\n",
       "    </tr>\n",
       "  </thead>\n",
       "  <tbody>\n",
       "    <tr>\n",
       "      <th>1990-01-31</th>\n",
       "      <td>Abilene, TX - Dallas, TX</td>\n",
       "      <td>741</td>\n",
       "      <td>1018</td>\n",
       "      <td>7</td>\n",
       "      <td>158.0</td>\n",
       "      <td>147700</td>\n",
       "      <td>8019250</td>\n",
       "      <td>Abilene, TX</td>\n",
       "      <td>Dallas, TX</td>\n",
       "    </tr>\n",
       "    <tr>\n",
       "      <th>1990-01-31</th>\n",
       "      <td>Akron, OH - Atlanta, GA</td>\n",
       "      <td>3742</td>\n",
       "      <td>5610</td>\n",
       "      <td>56</td>\n",
       "      <td>528.0</td>\n",
       "      <td>658558</td>\n",
       "      <td>3087755</td>\n",
       "      <td>Akron, OH</td>\n",
       "      <td>Atlanta, GA</td>\n",
       "    </tr>\n",
       "    <tr>\n",
       "      <th>1990-01-31</th>\n",
       "      <td>Akron, OH - Birmingham, AL</td>\n",
       "      <td>75</td>\n",
       "      <td>99</td>\n",
       "      <td>1</td>\n",
       "      <td>585.0</td>\n",
       "      <td>658558</td>\n",
       "      <td>958585</td>\n",
       "      <td>Akron, OH</td>\n",
       "      <td>Birmingham, AL</td>\n",
       "    </tr>\n",
       "    <tr>\n",
       "      <th>1990-01-31</th>\n",
       "      <td>Akron, OH - Chicago, IL</td>\n",
       "      <td>7863</td>\n",
       "      <td>20688</td>\n",
       "      <td>170</td>\n",
       "      <td>344.0</td>\n",
       "      <td>658558</td>\n",
       "      <td>16395048</td>\n",
       "      <td>Akron, OH</td>\n",
       "      <td>Chicago, IL</td>\n",
       "    </tr>\n",
       "    <tr>\n",
       "      <th>1990-01-31</th>\n",
       "      <td>Akron, OH - Cleveland, OH</td>\n",
       "      <td>0</td>\n",
       "      <td>123</td>\n",
       "      <td>1</td>\n",
       "      <td>40.0</td>\n",
       "      <td>658558</td>\n",
       "      <td>2103367</td>\n",
       "      <td>Akron, OH</td>\n",
       "      <td>Cleveland, OH</td>\n",
       "    </tr>\n",
       "  </tbody>\n",
       "</table>\n",
       "</div>"
      ],
      "text/plain": [
       "                           market_city  Passengers  Seats  Flights  Distance  \\\n",
       "year-month                                                                     \n",
       "1990-01-31    Abilene, TX - Dallas, TX         741   1018        7     158.0   \n",
       "1990-01-31     Akron, OH - Atlanta, GA        3742   5610       56     528.0   \n",
       "1990-01-31  Akron, OH - Birmingham, AL          75     99        1     585.0   \n",
       "1990-01-31     Akron, OH - Chicago, IL        7863  20688      170     344.0   \n",
       "1990-01-31   Akron, OH - Cleveland, OH           0    123        1      40.0   \n",
       "\n",
       "            Origin Population  Destination Population        city1  \\\n",
       "year-month                                                           \n",
       "1990-01-31             147700                 8019250  Abilene, TX   \n",
       "1990-01-31             658558                 3087755    Akron, OH   \n",
       "1990-01-31             658558                  958585    Akron, OH   \n",
       "1990-01-31             658558                16395048    Akron, OH   \n",
       "1990-01-31             658558                 2103367    Akron, OH   \n",
       "\n",
       "                     city2  \n",
       "year-month                  \n",
       "1990-01-31      Dallas, TX  \n",
       "1990-01-31     Atlanta, GA  \n",
       "1990-01-31  Birmingham, AL  \n",
       "1990-01-31     Chicago, IL  \n",
       "1990-01-31   Cleveland, OH  "
      ]
     },
     "execution_count": 14,
     "metadata": {},
     "output_type": "execute_result"
    }
   ],
   "source": [
    "print(flights.shape)\n",
    "flights.head()"
   ]
  },
  {
   "cell_type": "code",
   "execution_count": 15,
   "metadata": {},
   "outputs": [],
   "source": [
    "airfare['city1'] = [i.replace(' (Metropolitan Area)', \"\") for i in airfare['city1']]\n",
    "airfare['city2'] = [i.replace(' (Metropolitan Area)', \"\") for i in airfare['city2']]\n",
    "\n",
    "airfare['city1'] = [i.replace('Dallas/Fort Worth, TX', \"Dallas, TX\") for i in airfare['city1']]\n",
    "airfare['city2'] = [i.replace('Dallas/Fort Worth, TX', \"Dallas, TX\") for i in airfare['city2']]\n",
    "\n",
    "airfare['city1'] = [i.replace('Greensboro/High Point, NC', \"Greensboro, NC\") for i in airfare['city1']]\n",
    "airfare['city2'] = [i.replace('Greensboro/High Point, NC', \"Greensboro, NC\") for i in airfare['city2']]\n",
    "\n",
    "airfare['city1'] = [i.replace('Minneapolis/St. Paul, MN', \"Minneapolis, MN\") for i in airfare['city1']]\n",
    "airfare['city2'] = [i.replace('Minneapolis/St. Paul, MN', \"Minneapolis, MN\") for i in airfare['city2']]\n",
    "\n",
    "airfare['city1'] = [i.replace('New York City, NY', \"New York, NY\") for i in airfare['city1']]\n",
    "airfare['city2'] = [i.replace('New York City, NY', \"New York, NY\") for i in airfare['city2']]\n",
    "\n",
    "airfare['city1'] = [i.replace('Raleigh/Durham, NC', \"Raleigh, NC\") for i in airfare['city1']]\n",
    "airfare['city2'] = [i.replace('Raleigh/Durham, NC', \"Raleigh, NC\") for i in airfare['city2']]"
   ]
  },
  {
   "cell_type": "code",
   "execution_count": 16,
   "metadata": {},
   "outputs": [
    {
     "name": "stdout",
     "output_type": "stream",
     "text": [
      "563\n"
     ]
    },
    {
     "data": {
      "text/plain": [
       "['Aberdeen, SD',\n",
       " 'Abilene, TX',\n",
       " 'Akron, OH',\n",
       " 'Alamogordo, NM',\n",
       " 'Albany, GA',\n",
       " 'Albany, NY',\n",
       " 'Albany, OR',\n",
       " 'Albuquerque, NM',\n",
       " 'Alexandria, LA',\n",
       " 'Alexandria, MN']"
      ]
     },
     "execution_count": 16,
     "metadata": {},
     "output_type": "execute_result"
    }
   ],
   "source": [
    "flights_city_names = []\n",
    "for i in flights.city1.unique():\n",
    "    flights_city_names.append(i)\n",
    "for i in flights.city2.unique():\n",
    "    flights_city_names.append(i)\n",
    "flights_city_names = sorted(list(set(flights_city_names)))\n",
    "print(len(flights_city_names))\n",
    "flights_city_names[:10]"
   ]
  },
  {
   "cell_type": "code",
   "execution_count": 17,
   "metadata": {},
   "outputs": [
    {
     "name": "stdout",
     "output_type": "stream",
     "text": [
      "73\n"
     ]
    },
    {
     "data": {
      "text/plain": [
       "['Albany, NY',\n",
       " 'Albuquerque, NM',\n",
       " 'Amarillo, TX',\n",
       " 'Atlanta, GA',\n",
       " 'Atlantic City, NJ',\n",
       " 'Austin, TX',\n",
       " 'Birmingham, AL',\n",
       " 'Boise, ID',\n",
       " 'Boston, MA',\n",
       " 'Buffalo, NY']"
      ]
     },
     "execution_count": 17,
     "metadata": {},
     "output_type": "execute_result"
    }
   ],
   "source": [
    "airfare_city_names = []\n",
    "for i in airfare.city1.unique():\n",
    "    airfare_city_names.append(i)\n",
    "for i in airfare.city2.unique():\n",
    "    airfare_city_names.append(i)\n",
    "airfare_city_names = sorted(list(set(airfare_city_names)))\n",
    "print(len(airfare_city_names))\n",
    "airfare_city_names[:10]"
   ]
  },
  {
   "cell_type": "code",
   "execution_count": 18,
   "metadata": {},
   "outputs": [],
   "source": [
    "in_airfare_and_flight = []\n",
    "not_in_airfare_and_flight = []\n",
    "for i in flights_city_names:\n",
    "    if i in airfare_city_names:\n",
    "        in_airfare_and_flight.append(i)\n",
    "    else:\n",
    "        not_in_airfare_and_flight.append(i)\n",
    "        "
   ]
  },
  {
   "cell_type": "code",
   "execution_count": 19,
   "metadata": {},
   "outputs": [
    {
     "data": {
      "text/plain": [
       "65"
      ]
     },
     "execution_count": 19,
     "metadata": {},
     "output_type": "execute_result"
    }
   ],
   "source": [
    "# 65 of 73 airfare city names match city names in flights city names\n",
    "len(in_airfare_and_flight)"
   ]
  },
  {
   "cell_type": "code",
   "execution_count": 20,
   "metadata": {},
   "outputs": [
    {
     "data": {
      "text/plain": [
       "{'Boise, ID',\n",
       " 'Denver, CO',\n",
       " 'Fort Myers, FL',\n",
       " 'Louisville, KY',\n",
       " 'Midland/Odessa, TX',\n",
       " 'Norfolk, VA',\n",
       " 'Sarasota/Bradenton, FL',\n",
       " 'West Palm Beach/Palm Beach, FL'}"
      ]
     },
     "execution_count": 20,
     "metadata": {},
     "output_type": "execute_result"
    }
   ],
   "source": [
    "# These are the remaining names that are in airfare that do match the flight city names\n",
    "remaining = list(set(airfare_city_names) - set(in_airfare_and_flight))\n",
    "set(airfare_city_names) - set(in_airfare_and_flight)"
   ]
  },
  {
   "cell_type": "code",
   "execution_count": 21,
   "metadata": {},
   "outputs": [
    {
     "name": "stdout",
     "output_type": "stream",
     "text": [
      "Boise, ID\n",
      "Denver, CO\n",
      "Fort Myers, FL\n",
      "Louisville, KY\n",
      "Midland/Odessa, TX\n",
      "Norfolk, VA\n",
      "Sarasota/Bradenton, FL\n",
      "West Palm Beach/Palm Beach, FL\n"
     ]
    }
   ],
   "source": [
    "# remaining = [i.split(', ')[0] for i in remaining]\n",
    "# remaining = sorted(remaining)\n",
    "for i in sorted(remaining):\n",
    "    print(i.replace(' (Metropolitan Area)', \"\"))"
   ]
  },
  {
   "cell_type": "code",
   "execution_count": null,
   "metadata": {},
   "outputs": [],
   "source": []
  },
  {
   "cell_type": "code",
   "execution_count": 22,
   "metadata": {},
   "outputs": [
    {
     "data": {
      "text/plain": [
       "year-month\n",
       "1996-03-31    Minneapolis, MN - San Francisco, CA\n",
       "1996-03-31             Cincinnati, OH - Tampa, FL\n",
       "1996-03-31              Denver, CO - Portland, OR\n",
       "1996-03-31          Los Angeles, CA - Phoenix, AZ\n",
       "1996-03-31          Atlantic City, NJ - Miami, FL\n",
       "                             ...                 \n",
       "2019-09-30            Atlanta, GA - Milwaukee, WI\n",
       "2019-09-30         New Orleans, LA - New York, NY\n",
       "2019-09-30          Detroit, MI - Los Angeles, CA\n",
       "2019-09-30             Chicago, IL - Portland, OR\n",
       "2019-09-30      Portland, OR - Salt Lake City, UT\n",
       "Name: market_city, Length: 60040, dtype: object"
      ]
     },
     "execution_count": 22,
     "metadata": {},
     "output_type": "execute_result"
    }
   ],
   "source": [
    "airfare['market_city'] = airfare['city1'] + ' - ' + airfare['city2']\n",
    "airfare['market_city']"
   ]
  },
  {
   "cell_type": "code",
   "execution_count": 23,
   "metadata": {},
   "outputs": [],
   "source": [
    "airfare = airfare.reset_index()\n",
    "airfare['year-month'] = pd.to_datetime(airfare['year-month'])\n",
    "airfare = airfare.set_index('year-month')"
   ]
  },
  {
   "cell_type": "code",
   "execution_count": 24,
   "metadata": {},
   "outputs": [],
   "source": [
    "flights = flights.reset_index()\n",
    "flights['year-month'] = pd.to_datetime(flights['year-month'])\n",
    "flights = flights.set_index('year-month')"
   ]
  },
  {
   "cell_type": "code",
   "execution_count": 25,
   "metadata": {},
   "outputs": [
    {
     "data": {
      "text/plain": [
       "(1051957, 9)"
      ]
     },
     "execution_count": 25,
     "metadata": {},
     "output_type": "execute_result"
    }
   ],
   "source": [
    "flights.shape"
   ]
  },
  {
   "cell_type": "code",
   "execution_count": 26,
   "metadata": {},
   "outputs": [
    {
     "data": {
      "text/plain": [
       "(60040, 4)"
      ]
     },
     "execution_count": 26,
     "metadata": {},
     "output_type": "execute_result"
    }
   ],
   "source": [
    "airfare.shape"
   ]
  },
  {
   "cell_type": "code",
   "execution_count": 27,
   "metadata": {},
   "outputs": [],
   "source": [
    "airfare['year'] = airfare.reset_index()['year-month'].dt.year\n",
    "airfare['quarter'] = (airfare.reset_index()['year-month'].dt.month - 1) / 3"
   ]
  },
  {
   "cell_type": "code",
   "execution_count": 28,
   "metadata": {},
   "outputs": [
    {
     "data": {
      "text/html": [
       "<div>\n",
       "<style scoped>\n",
       "    .dataframe tbody tr th:only-of-type {\n",
       "        vertical-align: middle;\n",
       "    }\n",
       "\n",
       "    .dataframe tbody tr th {\n",
       "        vertical-align: top;\n",
       "    }\n",
       "\n",
       "    .dataframe thead th {\n",
       "        text-align: right;\n",
       "    }\n",
       "</style>\n",
       "<table border=\"1\" class=\"dataframe\">\n",
       "  <thead>\n",
       "    <tr style=\"text-align: right;\">\n",
       "      <th></th>\n",
       "      <th>year-month</th>\n",
       "      <th>market_city</th>\n",
       "      <th>city1</th>\n",
       "      <th>city2</th>\n",
       "      <th>fare</th>\n",
       "      <th>year</th>\n",
       "      <th>quarter</th>\n",
       "      <th>month</th>\n",
       "    </tr>\n",
       "  </thead>\n",
       "  <tbody>\n",
       "    <tr>\n",
       "      <th>1896</th>\n",
       "      <td>1996-12-31</td>\n",
       "      <td>Chicago, IL - Tampa, FL</td>\n",
       "      <td>Chicago, IL</td>\n",
       "      <td>Tampa, FL</td>\n",
       "      <td>137.32</td>\n",
       "      <td>1996</td>\n",
       "      <td>4</td>\n",
       "      <td>12</td>\n",
       "    </tr>\n",
       "    <tr>\n",
       "      <th>1897</th>\n",
       "      <td>1996-12-31</td>\n",
       "      <td>Hartford, CT - Los Angeles, CA</td>\n",
       "      <td>Hartford, CT</td>\n",
       "      <td>Los Angeles, CA</td>\n",
       "      <td>307.27</td>\n",
       "      <td>1996</td>\n",
       "      <td>4</td>\n",
       "      <td>12</td>\n",
       "    </tr>\n",
       "    <tr>\n",
       "      <th>1898</th>\n",
       "      <td>1996-12-31</td>\n",
       "      <td>Pittsburgh, PA - San Francisco, CA</td>\n",
       "      <td>Pittsburgh, PA</td>\n",
       "      <td>San Francisco, CA</td>\n",
       "      <td>314.86</td>\n",
       "      <td>1996</td>\n",
       "      <td>4</td>\n",
       "      <td>12</td>\n",
       "    </tr>\n",
       "    <tr>\n",
       "      <th>1899</th>\n",
       "      <td>1996-12-31</td>\n",
       "      <td>Atlanta, GA - Dallas, TX</td>\n",
       "      <td>Atlanta, GA</td>\n",
       "      <td>Dallas, TX</td>\n",
       "      <td>208.46</td>\n",
       "      <td>1996</td>\n",
       "      <td>4</td>\n",
       "      <td>12</td>\n",
       "    </tr>\n",
       "    <tr>\n",
       "      <th>1900</th>\n",
       "      <td>1996-12-31</td>\n",
       "      <td>Boston, MA - New Orleans, LA</td>\n",
       "      <td>Boston, MA</td>\n",
       "      <td>New Orleans, LA</td>\n",
       "      <td>189.05</td>\n",
       "      <td>1996</td>\n",
       "      <td>4</td>\n",
       "      <td>12</td>\n",
       "    </tr>\n",
       "    <tr>\n",
       "      <th>...</th>\n",
       "      <td>...</td>\n",
       "      <td>...</td>\n",
       "      <td>...</td>\n",
       "      <td>...</td>\n",
       "      <td>...</td>\n",
       "      <td>...</td>\n",
       "      <td>...</td>\n",
       "      <td>...</td>\n",
       "    </tr>\n",
       "    <tr>\n",
       "      <th>2523</th>\n",
       "      <td>1996-12-31</td>\n",
       "      <td>Chicago, IL - Phoenix, AZ</td>\n",
       "      <td>Chicago, IL</td>\n",
       "      <td>Phoenix, AZ</td>\n",
       "      <td>139.98</td>\n",
       "      <td>1996</td>\n",
       "      <td>4</td>\n",
       "      <td>12</td>\n",
       "    </tr>\n",
       "    <tr>\n",
       "      <th>2524</th>\n",
       "      <td>1996-12-31</td>\n",
       "      <td>San Francisco, CA - St. Louis, MO</td>\n",
       "      <td>San Francisco, CA</td>\n",
       "      <td>St. Louis, MO</td>\n",
       "      <td>195.88</td>\n",
       "      <td>1996</td>\n",
       "      <td>4</td>\n",
       "      <td>12</td>\n",
       "    </tr>\n",
       "    <tr>\n",
       "      <th>2525</th>\n",
       "      <td>1996-12-31</td>\n",
       "      <td>Norfolk, VA - San Diego, CA</td>\n",
       "      <td>Norfolk, VA</td>\n",
       "      <td>San Diego, CA</td>\n",
       "      <td>269.58</td>\n",
       "      <td>1996</td>\n",
       "      <td>4</td>\n",
       "      <td>12</td>\n",
       "    </tr>\n",
       "    <tr>\n",
       "      <th>2526</th>\n",
       "      <td>1996-12-31</td>\n",
       "      <td>Kansas City, MO - Tampa, FL</td>\n",
       "      <td>Kansas City, MO</td>\n",
       "      <td>Tampa, FL</td>\n",
       "      <td>136.68</td>\n",
       "      <td>1996</td>\n",
       "      <td>4</td>\n",
       "      <td>12</td>\n",
       "    </tr>\n",
       "    <tr>\n",
       "      <th>2527</th>\n",
       "      <td>1996-12-31</td>\n",
       "      <td>Detroit, MI - Minneapolis, MN</td>\n",
       "      <td>Detroit, MI</td>\n",
       "      <td>Minneapolis, MN</td>\n",
       "      <td>289.27</td>\n",
       "      <td>1996</td>\n",
       "      <td>4</td>\n",
       "      <td>12</td>\n",
       "    </tr>\n",
       "  </tbody>\n",
       "</table>\n",
       "<p>632 rows × 8 columns</p>\n",
       "</div>"
      ],
      "text/plain": [
       "     year-month                         market_city              city1  \\\n",
       "1896 1996-12-31             Chicago, IL - Tampa, FL        Chicago, IL   \n",
       "1897 1996-12-31      Hartford, CT - Los Angeles, CA       Hartford, CT   \n",
       "1898 1996-12-31  Pittsburgh, PA - San Francisco, CA     Pittsburgh, PA   \n",
       "1899 1996-12-31            Atlanta, GA - Dallas, TX        Atlanta, GA   \n",
       "1900 1996-12-31        Boston, MA - New Orleans, LA         Boston, MA   \n",
       "...         ...                                 ...                ...   \n",
       "2523 1996-12-31           Chicago, IL - Phoenix, AZ        Chicago, IL   \n",
       "2524 1996-12-31   San Francisco, CA - St. Louis, MO  San Francisco, CA   \n",
       "2525 1996-12-31         Norfolk, VA - San Diego, CA        Norfolk, VA   \n",
       "2526 1996-12-31         Kansas City, MO - Tampa, FL    Kansas City, MO   \n",
       "2527 1996-12-31       Detroit, MI - Minneapolis, MN        Detroit, MI   \n",
       "\n",
       "                  city2    fare  year  quarter  month  \n",
       "1896          Tampa, FL  137.32  1996        4     12  \n",
       "1897    Los Angeles, CA  307.27  1996        4     12  \n",
       "1898  San Francisco, CA  314.86  1996        4     12  \n",
       "1899         Dallas, TX  208.46  1996        4     12  \n",
       "1900    New Orleans, LA  189.05  1996        4     12  \n",
       "...                 ...     ...   ...      ...    ...  \n",
       "2523        Phoenix, AZ  139.98  1996        4     12  \n",
       "2524      St. Louis, MO  195.88  1996        4     12  \n",
       "2525      San Diego, CA  269.58  1996        4     12  \n",
       "2526          Tampa, FL  136.68  1996        4     12  \n",
       "2527    Minneapolis, MN  289.27  1996        4     12  \n",
       "\n",
       "[632 rows x 8 columns]"
      ]
     },
     "execution_count": 28,
     "metadata": {},
     "output_type": "execute_result"
    }
   ],
   "source": [
    "airfare = airfare.reset_index()\n",
    "airfare['year-month'] = pd.to_datetime(airfare['year-month'])\n",
    "airfare['year'] = airfare['year-month'].dt.year\n",
    "airfare['month'] = airfare['year-month'].dt.month\n",
    "airfare['quarter'] = airfare['month'].apply(lambda x: (x - 1) // 3 + 1)\n",
    "airfare[airfare['year-month'] == '1996-12-31']"
   ]
  },
  {
   "cell_type": "code",
   "execution_count": 29,
   "metadata": {},
   "outputs": [
    {
     "data": {
      "text/html": [
       "<div>\n",
       "<style scoped>\n",
       "    .dataframe tbody tr th:only-of-type {\n",
       "        vertical-align: middle;\n",
       "    }\n",
       "\n",
       "    .dataframe tbody tr th {\n",
       "        vertical-align: top;\n",
       "    }\n",
       "\n",
       "    .dataframe thead th {\n",
       "        text-align: right;\n",
       "    }\n",
       "</style>\n",
       "<table border=\"1\" class=\"dataframe\">\n",
       "  <thead>\n",
       "    <tr style=\"text-align: right;\">\n",
       "      <th></th>\n",
       "      <th>market_city</th>\n",
       "      <th>Passengers</th>\n",
       "      <th>Seats</th>\n",
       "      <th>Flights</th>\n",
       "      <th>Distance</th>\n",
       "      <th>Origin Population</th>\n",
       "      <th>Destination Population</th>\n",
       "      <th>city1</th>\n",
       "      <th>city2</th>\n",
       "    </tr>\n",
       "    <tr>\n",
       "      <th>year-month</th>\n",
       "      <th></th>\n",
       "      <th></th>\n",
       "      <th></th>\n",
       "      <th></th>\n",
       "      <th></th>\n",
       "      <th></th>\n",
       "      <th></th>\n",
       "      <th></th>\n",
       "      <th></th>\n",
       "    </tr>\n",
       "  </thead>\n",
       "  <tbody>\n",
       "    <tr>\n",
       "      <th>1990-01-31</th>\n",
       "      <td>Abilene, TX - Dallas, TX</td>\n",
       "      <td>741</td>\n",
       "      <td>1018</td>\n",
       "      <td>7</td>\n",
       "      <td>158.0</td>\n",
       "      <td>147700</td>\n",
       "      <td>8019250</td>\n",
       "      <td>Abilene, TX</td>\n",
       "      <td>Dallas, TX</td>\n",
       "    </tr>\n",
       "    <tr>\n",
       "      <th>1990-01-31</th>\n",
       "      <td>Akron, OH - Atlanta, GA</td>\n",
       "      <td>3742</td>\n",
       "      <td>5610</td>\n",
       "      <td>56</td>\n",
       "      <td>528.0</td>\n",
       "      <td>658558</td>\n",
       "      <td>3087755</td>\n",
       "      <td>Akron, OH</td>\n",
       "      <td>Atlanta, GA</td>\n",
       "    </tr>\n",
       "    <tr>\n",
       "      <th>1990-01-31</th>\n",
       "      <td>Akron, OH - Birmingham, AL</td>\n",
       "      <td>75</td>\n",
       "      <td>99</td>\n",
       "      <td>1</td>\n",
       "      <td>585.0</td>\n",
       "      <td>658558</td>\n",
       "      <td>958585</td>\n",
       "      <td>Akron, OH</td>\n",
       "      <td>Birmingham, AL</td>\n",
       "    </tr>\n",
       "    <tr>\n",
       "      <th>1990-01-31</th>\n",
       "      <td>Akron, OH - Chicago, IL</td>\n",
       "      <td>7863</td>\n",
       "      <td>20688</td>\n",
       "      <td>170</td>\n",
       "      <td>344.0</td>\n",
       "      <td>658558</td>\n",
       "      <td>16395048</td>\n",
       "      <td>Akron, OH</td>\n",
       "      <td>Chicago, IL</td>\n",
       "    </tr>\n",
       "    <tr>\n",
       "      <th>1990-01-31</th>\n",
       "      <td>Akron, OH - Cleveland, OH</td>\n",
       "      <td>0</td>\n",
       "      <td>123</td>\n",
       "      <td>1</td>\n",
       "      <td>40.0</td>\n",
       "      <td>658558</td>\n",
       "      <td>2103367</td>\n",
       "      <td>Akron, OH</td>\n",
       "      <td>Cleveland, OH</td>\n",
       "    </tr>\n",
       "    <tr>\n",
       "      <th>...</th>\n",
       "      <td>...</td>\n",
       "      <td>...</td>\n",
       "      <td>...</td>\n",
       "      <td>...</td>\n",
       "      <td>...</td>\n",
       "      <td>...</td>\n",
       "      <td>...</td>\n",
       "      <td>...</td>\n",
       "      <td>...</td>\n",
       "    </tr>\n",
       "    <tr>\n",
       "      <th>2009-12-31</th>\n",
       "      <td>Youngstown, OH - Orlando, FL</td>\n",
       "      <td>1085</td>\n",
       "      <td>1200</td>\n",
       "      <td>8</td>\n",
       "      <td>861.0</td>\n",
       "      <td>562963</td>\n",
       "      <td>2082421</td>\n",
       "      <td>Youngstown, OH</td>\n",
       "      <td>Orlando, FL</td>\n",
       "    </tr>\n",
       "    <tr>\n",
       "      <th>2009-12-31</th>\n",
       "      <td>Yuma, AZ - El Centro, CA</td>\n",
       "      <td>119</td>\n",
       "      <td>870</td>\n",
       "      <td>29</td>\n",
       "      <td>58.0</td>\n",
       "      <td>196972</td>\n",
       "      <td>166874</td>\n",
       "      <td>Yuma, AZ</td>\n",
       "      <td>El Centro, CA</td>\n",
       "    </tr>\n",
       "    <tr>\n",
       "      <th>2009-12-31</th>\n",
       "      <td>Yuma, AZ - Gulfport, MS</td>\n",
       "      <td>129</td>\n",
       "      <td>130</td>\n",
       "      <td>1</td>\n",
       "      <td>1511.0</td>\n",
       "      <td>196972</td>\n",
       "      <td>238772</td>\n",
       "      <td>Yuma, AZ</td>\n",
       "      <td>Gulfport, MS</td>\n",
       "    </tr>\n",
       "    <tr>\n",
       "      <th>2009-12-31</th>\n",
       "      <td>Yuma, AZ - Los Angeles, CA</td>\n",
       "      <td>2297</td>\n",
       "      <td>3570</td>\n",
       "      <td>119</td>\n",
       "      <td>237.0</td>\n",
       "      <td>196972</td>\n",
       "      <td>25749594</td>\n",
       "      <td>Yuma, AZ</td>\n",
       "      <td>Los Angeles, CA</td>\n",
       "    </tr>\n",
       "    <tr>\n",
       "      <th>2009-12-31</th>\n",
       "      <td>Yuma, AZ - Phoenix, AZ</td>\n",
       "      <td>5928</td>\n",
       "      <td>8390</td>\n",
       "      <td>212</td>\n",
       "      <td>160.0</td>\n",
       "      <td>196972</td>\n",
       "      <td>4364094</td>\n",
       "      <td>Yuma, AZ</td>\n",
       "      <td>Phoenix, AZ</td>\n",
       "    </tr>\n",
       "  </tbody>\n",
       "</table>\n",
       "<p>1051957 rows × 9 columns</p>\n",
       "</div>"
      ],
      "text/plain": [
       "                             market_city  Passengers  Seats  Flights  \\\n",
       "year-month                                                             \n",
       "1990-01-31      Abilene, TX - Dallas, TX         741   1018        7   \n",
       "1990-01-31       Akron, OH - Atlanta, GA        3742   5610       56   \n",
       "1990-01-31    Akron, OH - Birmingham, AL          75     99        1   \n",
       "1990-01-31       Akron, OH - Chicago, IL        7863  20688      170   \n",
       "1990-01-31     Akron, OH - Cleveland, OH           0    123        1   \n",
       "...                                  ...         ...    ...      ...   \n",
       "2009-12-31  Youngstown, OH - Orlando, FL        1085   1200        8   \n",
       "2009-12-31      Yuma, AZ - El Centro, CA         119    870       29   \n",
       "2009-12-31       Yuma, AZ - Gulfport, MS         129    130        1   \n",
       "2009-12-31    Yuma, AZ - Los Angeles, CA        2297   3570      119   \n",
       "2009-12-31        Yuma, AZ - Phoenix, AZ        5928   8390      212   \n",
       "\n",
       "            Distance  Origin Population  Destination Population  \\\n",
       "year-month                                                        \n",
       "1990-01-31     158.0             147700                 8019250   \n",
       "1990-01-31     528.0             658558                 3087755   \n",
       "1990-01-31     585.0             658558                  958585   \n",
       "1990-01-31     344.0             658558                16395048   \n",
       "1990-01-31      40.0             658558                 2103367   \n",
       "...              ...                ...                     ...   \n",
       "2009-12-31     861.0             562963                 2082421   \n",
       "2009-12-31      58.0             196972                  166874   \n",
       "2009-12-31    1511.0             196972                  238772   \n",
       "2009-12-31     237.0             196972                25749594   \n",
       "2009-12-31     160.0             196972                 4364094   \n",
       "\n",
       "                     city1            city2  \n",
       "year-month                                   \n",
       "1990-01-31     Abilene, TX       Dallas, TX  \n",
       "1990-01-31       Akron, OH      Atlanta, GA  \n",
       "1990-01-31       Akron, OH   Birmingham, AL  \n",
       "1990-01-31       Akron, OH      Chicago, IL  \n",
       "1990-01-31       Akron, OH    Cleveland, OH  \n",
       "...                    ...              ...  \n",
       "2009-12-31  Youngstown, OH      Orlando, FL  \n",
       "2009-12-31        Yuma, AZ    El Centro, CA  \n",
       "2009-12-31        Yuma, AZ     Gulfport, MS  \n",
       "2009-12-31        Yuma, AZ  Los Angeles, CA  \n",
       "2009-12-31        Yuma, AZ      Phoenix, AZ  \n",
       "\n",
       "[1051957 rows x 9 columns]"
      ]
     },
     "execution_count": 29,
     "metadata": {},
     "output_type": "execute_result"
    }
   ],
   "source": [
    "flights"
   ]
  },
  {
   "cell_type": "code",
   "execution_count": 30,
   "metadata": {},
   "outputs": [],
   "source": [
    "flights = flights.reset_index()\n",
    "flights['year-month'] = pd.to_datetime(flights['year-month'])\n",
    "flights['year'] = flights['year-month'].dt.year\n",
    "flights['month'] = flights['year-month'].dt.month\n",
    "flights['quarter'] = flights['month'].apply(lambda x: (x - 1) // 3 + 1)"
   ]
  },
  {
   "cell_type": "code",
   "execution_count": null,
   "metadata": {},
   "outputs": [],
   "source": []
  },
  {
   "cell_type": "code",
   "execution_count": 31,
   "metadata": {},
   "outputs": [],
   "source": [
    "# pick up from here -- GET THE TWO DATAFRAMES TO MERGE & PRESERVE THE 95 QUARTERS OF DATA\n",
    "\n",
    "# HOW MANY MONTHS OF DATA DOES EACH ROUTE HAVE IN THE flights DF -- maybe this is why the merge goes down weird"
   ]
  },
  {
   "cell_type": "code",
   "execution_count": 32,
   "metadata": {},
   "outputs": [
    {
     "data": {
      "text/plain": [
       "56"
      ]
     },
     "execution_count": 32,
     "metadata": {},
     "output_type": "execute_result"
    }
   ],
   "source": [
    "did_it_work = pd.merge(flights, airfare, how='left', left_on=['year', 'quarter', 'market_city'], right_on=['year', 'quarter', 'market_city']).dropna()\n",
    "len(did_it_work['year-month_y'].unique())"
   ]
  },
  {
   "cell_type": "code",
   "execution_count": 33,
   "metadata": {},
   "outputs": [
    {
     "data": {
      "text/plain": [
       "Timestamp('2009-12-31 00:00:00')"
      ]
     },
     "execution_count": 33,
     "metadata": {},
     "output_type": "execute_result"
    }
   ],
   "source": [
    "flights['year-month'].max()"
   ]
  },
  {
   "cell_type": "code",
   "execution_count": 34,
   "metadata": {},
   "outputs": [
    {
     "data": {
      "text/plain": [
       "Timestamp('1990-01-31 00:00:00')"
      ]
     },
     "execution_count": 34,
     "metadata": {},
     "output_type": "execute_result"
    }
   ],
   "source": [
    "flights['year-month'].min()"
   ]
  },
  {
   "cell_type": "code",
   "execution_count": 35,
   "metadata": {},
   "outputs": [
    {
     "data": {
      "text/plain": [
       "240"
      ]
     },
     "execution_count": 35,
     "metadata": {},
     "output_type": "execute_result"
    }
   ],
   "source": [
    "len(sorted(flights['year-month'].unique())) # 240 months 20 years of data from 1990 to 2009 "
   ]
  },
  {
   "cell_type": "code",
   "execution_count": 36,
   "metadata": {},
   "outputs": [
    {
     "data": {
      "text/html": [
       "<div>\n",
       "<style scoped>\n",
       "    .dataframe tbody tr th:only-of-type {\n",
       "        vertical-align: middle;\n",
       "    }\n",
       "\n",
       "    .dataframe tbody tr th {\n",
       "        vertical-align: top;\n",
       "    }\n",
       "\n",
       "    .dataframe thead th {\n",
       "        text-align: right;\n",
       "    }\n",
       "</style>\n",
       "<table border=\"1\" class=\"dataframe\">\n",
       "  <thead>\n",
       "    <tr style=\"text-align: right;\">\n",
       "      <th></th>\n",
       "      <th>year-month</th>\n",
       "      <th>market_city</th>\n",
       "      <th>Passengers</th>\n",
       "      <th>Seats</th>\n",
       "      <th>Flights</th>\n",
       "      <th>Distance</th>\n",
       "      <th>Origin Population</th>\n",
       "      <th>Destination Population</th>\n",
       "      <th>city1</th>\n",
       "      <th>city2</th>\n",
       "      <th>year</th>\n",
       "      <th>month</th>\n",
       "      <th>quarter</th>\n",
       "    </tr>\n",
       "  </thead>\n",
       "  <tbody>\n",
       "    <tr>\n",
       "      <th>0</th>\n",
       "      <td>1990-01-31</td>\n",
       "      <td>Abilene, TX - Dallas, TX</td>\n",
       "      <td>741</td>\n",
       "      <td>1018</td>\n",
       "      <td>7</td>\n",
       "      <td>158.0</td>\n",
       "      <td>147700</td>\n",
       "      <td>8019250</td>\n",
       "      <td>Abilene, TX</td>\n",
       "      <td>Dallas, TX</td>\n",
       "      <td>1990</td>\n",
       "      <td>1</td>\n",
       "      <td>1</td>\n",
       "    </tr>\n",
       "    <tr>\n",
       "      <th>1</th>\n",
       "      <td>1990-01-31</td>\n",
       "      <td>Akron, OH - Atlanta, GA</td>\n",
       "      <td>3742</td>\n",
       "      <td>5610</td>\n",
       "      <td>56</td>\n",
       "      <td>528.0</td>\n",
       "      <td>658558</td>\n",
       "      <td>3087755</td>\n",
       "      <td>Akron, OH</td>\n",
       "      <td>Atlanta, GA</td>\n",
       "      <td>1990</td>\n",
       "      <td>1</td>\n",
       "      <td>1</td>\n",
       "    </tr>\n",
       "    <tr>\n",
       "      <th>2</th>\n",
       "      <td>1990-01-31</td>\n",
       "      <td>Akron, OH - Birmingham, AL</td>\n",
       "      <td>75</td>\n",
       "      <td>99</td>\n",
       "      <td>1</td>\n",
       "      <td>585.0</td>\n",
       "      <td>658558</td>\n",
       "      <td>958585</td>\n",
       "      <td>Akron, OH</td>\n",
       "      <td>Birmingham, AL</td>\n",
       "      <td>1990</td>\n",
       "      <td>1</td>\n",
       "      <td>1</td>\n",
       "    </tr>\n",
       "  </tbody>\n",
       "</table>\n",
       "</div>"
      ],
      "text/plain": [
       "  year-month                 market_city  Passengers  Seats  Flights  \\\n",
       "0 1990-01-31    Abilene, TX - Dallas, TX         741   1018        7   \n",
       "1 1990-01-31     Akron, OH - Atlanta, GA        3742   5610       56   \n",
       "2 1990-01-31  Akron, OH - Birmingham, AL          75     99        1   \n",
       "\n",
       "   Distance  Origin Population  Destination Population        city1  \\\n",
       "0     158.0             147700                 8019250  Abilene, TX   \n",
       "1     528.0             658558                 3087755    Akron, OH   \n",
       "2     585.0             658558                  958585    Akron, OH   \n",
       "\n",
       "            city2  year  month  quarter  \n",
       "0      Dallas, TX  1990      1        1  \n",
       "1     Atlanta, GA  1990      1        1  \n",
       "2  Birmingham, AL  1990      1        1  "
      ]
     },
     "execution_count": 36,
     "metadata": {},
     "output_type": "execute_result"
    }
   ],
   "source": [
    "flights.head(3)"
   ]
  },
  {
   "cell_type": "code",
   "execution_count": 37,
   "metadata": {},
   "outputs": [
    {
     "data": {
      "text/plain": [
       "['Albany, NY - Atlanta, GA',\n",
       " 'Albany, NY - Chicago, IL',\n",
       " 'Albany, NY - Detroit, MI',\n",
       " 'Albany, NY - Philadelphia, PA',\n",
       " 'Albuquerque, NM - Chicago, IL']"
      ]
     },
     "execution_count": 37,
     "metadata": {},
     "output_type": "execute_result"
    }
   ],
   "source": [
    "flights_count = pd.DataFrame(flights.market_city.value_counts())\n",
    "flights_count = sorted(flights_count[flights_count['market_city'] == 240].reset_index()['index'])\n",
    "flights_count[:5]"
   ]
  },
  {
   "cell_type": "code",
   "execution_count": 38,
   "metadata": {},
   "outputs": [
    {
     "name": "stdout",
     "output_type": "stream",
     "text": [
      "(366720, 13)\n"
     ]
    },
    {
     "data": {
      "text/html": [
       "<div>\n",
       "<style scoped>\n",
       "    .dataframe tbody tr th:only-of-type {\n",
       "        vertical-align: middle;\n",
       "    }\n",
       "\n",
       "    .dataframe tbody tr th {\n",
       "        vertical-align: top;\n",
       "    }\n",
       "\n",
       "    .dataframe thead th {\n",
       "        text-align: right;\n",
       "    }\n",
       "</style>\n",
       "<table border=\"1\" class=\"dataframe\">\n",
       "  <thead>\n",
       "    <tr style=\"text-align: right;\">\n",
       "      <th></th>\n",
       "      <th>year-month</th>\n",
       "      <th>market_city</th>\n",
       "      <th>Passengers</th>\n",
       "      <th>Seats</th>\n",
       "      <th>Flights</th>\n",
       "      <th>Distance</th>\n",
       "      <th>Origin Population</th>\n",
       "      <th>Destination Population</th>\n",
       "      <th>city1</th>\n",
       "      <th>city2</th>\n",
       "      <th>year</th>\n",
       "      <th>month</th>\n",
       "      <th>quarter</th>\n",
       "    </tr>\n",
       "  </thead>\n",
       "  <tbody>\n",
       "    <tr>\n",
       "      <th>11</th>\n",
       "      <td>1990-01-31</td>\n",
       "      <td>Albany, NY - Atlanta, GA</td>\n",
       "      <td>9495</td>\n",
       "      <td>20216</td>\n",
       "      <td>141</td>\n",
       "      <td>852.0</td>\n",
       "      <td>811232</td>\n",
       "      <td>3087755</td>\n",
       "      <td>Albany, NY</td>\n",
       "      <td>Atlanta, GA</td>\n",
       "      <td>1990</td>\n",
       "      <td>1</td>\n",
       "      <td>1</td>\n",
       "    </tr>\n",
       "    <tr>\n",
       "      <th>15</th>\n",
       "      <td>1990-01-31</td>\n",
       "      <td>Albany, NY - Chicago, IL</td>\n",
       "      <td>11303</td>\n",
       "      <td>22257</td>\n",
       "      <td>172</td>\n",
       "      <td>723.0</td>\n",
       "      <td>811232</td>\n",
       "      <td>16395048</td>\n",
       "      <td>Albany, NY</td>\n",
       "      <td>Chicago, IL</td>\n",
       "      <td>1990</td>\n",
       "      <td>1</td>\n",
       "      <td>1</td>\n",
       "    </tr>\n",
       "    <tr>\n",
       "      <th>18</th>\n",
       "      <td>1990-01-31</td>\n",
       "      <td>Albany, NY - Detroit, MI</td>\n",
       "      <td>5125</td>\n",
       "      <td>10900</td>\n",
       "      <td>109</td>\n",
       "      <td>488.0</td>\n",
       "      <td>811232</td>\n",
       "      <td>8503650</td>\n",
       "      <td>Albany, NY</td>\n",
       "      <td>Detroit, MI</td>\n",
       "      <td>1990</td>\n",
       "      <td>1</td>\n",
       "      <td>1</td>\n",
       "    </tr>\n",
       "    <tr>\n",
       "      <th>25</th>\n",
       "      <td>1990-01-31</td>\n",
       "      <td>Albany, NY - Philadelphia, PA</td>\n",
       "      <td>8793</td>\n",
       "      <td>22494</td>\n",
       "      <td>205</td>\n",
       "      <td>212.0</td>\n",
       "      <td>811232</td>\n",
       "      <td>10881988</td>\n",
       "      <td>Albany, NY</td>\n",
       "      <td>Philadelphia, PA</td>\n",
       "      <td>1990</td>\n",
       "      <td>1</td>\n",
       "      <td>1</td>\n",
       "    </tr>\n",
       "    <tr>\n",
       "      <th>33</th>\n",
       "      <td>1990-01-31</td>\n",
       "      <td>Albuquerque, NM - Chicago, IL</td>\n",
       "      <td>6420</td>\n",
       "      <td>15849</td>\n",
       "      <td>118</td>\n",
       "      <td>1117.0</td>\n",
       "      <td>601893</td>\n",
       "      <td>16395048</td>\n",
       "      <td>Albuquerque, NM</td>\n",
       "      <td>Chicago, IL</td>\n",
       "      <td>1990</td>\n",
       "      <td>1</td>\n",
       "      <td>1</td>\n",
       "    </tr>\n",
       "  </tbody>\n",
       "</table>\n",
       "</div>"
      ],
      "text/plain": [
       "   year-month                    market_city  Passengers  Seats  Flights  \\\n",
       "11 1990-01-31       Albany, NY - Atlanta, GA        9495  20216      141   \n",
       "15 1990-01-31       Albany, NY - Chicago, IL       11303  22257      172   \n",
       "18 1990-01-31       Albany, NY - Detroit, MI        5125  10900      109   \n",
       "25 1990-01-31  Albany, NY - Philadelphia, PA        8793  22494      205   \n",
       "33 1990-01-31  Albuquerque, NM - Chicago, IL        6420  15849      118   \n",
       "\n",
       "    Distance  Origin Population  Destination Population            city1  \\\n",
       "11     852.0             811232                 3087755       Albany, NY   \n",
       "15     723.0             811232                16395048       Albany, NY   \n",
       "18     488.0             811232                 8503650       Albany, NY   \n",
       "25     212.0             811232                10881988       Albany, NY   \n",
       "33    1117.0             601893                16395048  Albuquerque, NM   \n",
       "\n",
       "               city2  year  month  quarter  \n",
       "11       Atlanta, GA  1990      1        1  \n",
       "15       Chicago, IL  1990      1        1  \n",
       "18       Detroit, MI  1990      1        1  \n",
       "25  Philadelphia, PA  1990      1        1  \n",
       "33       Chicago, IL  1990      1        1  "
      ]
     },
     "execution_count": 38,
     "metadata": {},
     "output_type": "execute_result"
    }
   ],
   "source": [
    "# https://stackoverflow.com/questions/45803676/python-pandas-loc-filter-for-list-of-values\n",
    "    \n",
    "flights = flights.loc[flights['market_city'].isin(flights_count)]\n",
    "print(flights.shape)\n",
    "flights.head()"
   ]
  },
  {
   "cell_type": "code",
   "execution_count": 39,
   "metadata": {},
   "outputs": [
    {
     "data": {
      "text/html": [
       "<div>\n",
       "<style scoped>\n",
       "    .dataframe tbody tr th:only-of-type {\n",
       "        vertical-align: middle;\n",
       "    }\n",
       "\n",
       "    .dataframe tbody tr th {\n",
       "        vertical-align: top;\n",
       "    }\n",
       "\n",
       "    .dataframe thead th {\n",
       "        text-align: right;\n",
       "    }\n",
       "</style>\n",
       "<table border=\"1\" class=\"dataframe\">\n",
       "  <thead>\n",
       "    <tr style=\"text-align: right;\">\n",
       "      <th></th>\n",
       "      <th>year-month_x</th>\n",
       "      <th>market_city</th>\n",
       "      <th>Passengers</th>\n",
       "      <th>Seats</th>\n",
       "      <th>Flights</th>\n",
       "      <th>Distance</th>\n",
       "      <th>Origin Population</th>\n",
       "      <th>Destination Population</th>\n",
       "      <th>city1_x</th>\n",
       "      <th>city2_x</th>\n",
       "      <th>year</th>\n",
       "      <th>month_x</th>\n",
       "      <th>quarter</th>\n",
       "      <th>year-month_y</th>\n",
       "      <th>city1_y</th>\n",
       "      <th>city2_y</th>\n",
       "      <th>fare</th>\n",
       "      <th>month_y</th>\n",
       "    </tr>\n",
       "  </thead>\n",
       "  <tbody>\n",
       "    <tr>\n",
       "      <th>0</th>\n",
       "      <td>1990-01-31</td>\n",
       "      <td>Albany, NY - Atlanta, GA</td>\n",
       "      <td>9495</td>\n",
       "      <td>20216</td>\n",
       "      <td>141</td>\n",
       "      <td>852.0</td>\n",
       "      <td>811232</td>\n",
       "      <td>3087755</td>\n",
       "      <td>Albany, NY</td>\n",
       "      <td>Atlanta, GA</td>\n",
       "      <td>1990</td>\n",
       "      <td>1</td>\n",
       "      <td>1</td>\n",
       "      <td>NaT</td>\n",
       "      <td>NaN</td>\n",
       "      <td>NaN</td>\n",
       "      <td>NaN</td>\n",
       "      <td>NaN</td>\n",
       "    </tr>\n",
       "    <tr>\n",
       "      <th>1</th>\n",
       "      <td>1990-01-31</td>\n",
       "      <td>Albany, NY - Chicago, IL</td>\n",
       "      <td>11303</td>\n",
       "      <td>22257</td>\n",
       "      <td>172</td>\n",
       "      <td>723.0</td>\n",
       "      <td>811232</td>\n",
       "      <td>16395048</td>\n",
       "      <td>Albany, NY</td>\n",
       "      <td>Chicago, IL</td>\n",
       "      <td>1990</td>\n",
       "      <td>1</td>\n",
       "      <td>1</td>\n",
       "      <td>NaT</td>\n",
       "      <td>NaN</td>\n",
       "      <td>NaN</td>\n",
       "      <td>NaN</td>\n",
       "      <td>NaN</td>\n",
       "    </tr>\n",
       "    <tr>\n",
       "      <th>2</th>\n",
       "      <td>1990-01-31</td>\n",
       "      <td>Albany, NY - Detroit, MI</td>\n",
       "      <td>5125</td>\n",
       "      <td>10900</td>\n",
       "      <td>109</td>\n",
       "      <td>488.0</td>\n",
       "      <td>811232</td>\n",
       "      <td>8503650</td>\n",
       "      <td>Albany, NY</td>\n",
       "      <td>Detroit, MI</td>\n",
       "      <td>1990</td>\n",
       "      <td>1</td>\n",
       "      <td>1</td>\n",
       "      <td>NaT</td>\n",
       "      <td>NaN</td>\n",
       "      <td>NaN</td>\n",
       "      <td>NaN</td>\n",
       "      <td>NaN</td>\n",
       "    </tr>\n",
       "    <tr>\n",
       "      <th>3</th>\n",
       "      <td>1990-01-31</td>\n",
       "      <td>Albany, NY - Philadelphia, PA</td>\n",
       "      <td>8793</td>\n",
       "      <td>22494</td>\n",
       "      <td>205</td>\n",
       "      <td>212.0</td>\n",
       "      <td>811232</td>\n",
       "      <td>10881988</td>\n",
       "      <td>Albany, NY</td>\n",
       "      <td>Philadelphia, PA</td>\n",
       "      <td>1990</td>\n",
       "      <td>1</td>\n",
       "      <td>1</td>\n",
       "      <td>NaT</td>\n",
       "      <td>NaN</td>\n",
       "      <td>NaN</td>\n",
       "      <td>NaN</td>\n",
       "      <td>NaN</td>\n",
       "    </tr>\n",
       "    <tr>\n",
       "      <th>4</th>\n",
       "      <td>1990-01-31</td>\n",
       "      <td>Albuquerque, NM - Chicago, IL</td>\n",
       "      <td>6420</td>\n",
       "      <td>15849</td>\n",
       "      <td>118</td>\n",
       "      <td>1117.0</td>\n",
       "      <td>601893</td>\n",
       "      <td>16395048</td>\n",
       "      <td>Albuquerque, NM</td>\n",
       "      <td>Chicago, IL</td>\n",
       "      <td>1990</td>\n",
       "      <td>1</td>\n",
       "      <td>1</td>\n",
       "      <td>NaT</td>\n",
       "      <td>NaN</td>\n",
       "      <td>NaN</td>\n",
       "      <td>NaN</td>\n",
       "      <td>NaN</td>\n",
       "    </tr>\n",
       "  </tbody>\n",
       "</table>\n",
       "</div>"
      ],
      "text/plain": [
       "  year-month_x                    market_city  Passengers  Seats  Flights  \\\n",
       "0   1990-01-31       Albany, NY - Atlanta, GA        9495  20216      141   \n",
       "1   1990-01-31       Albany, NY - Chicago, IL       11303  22257      172   \n",
       "2   1990-01-31       Albany, NY - Detroit, MI        5125  10900      109   \n",
       "3   1990-01-31  Albany, NY - Philadelphia, PA        8793  22494      205   \n",
       "4   1990-01-31  Albuquerque, NM - Chicago, IL        6420  15849      118   \n",
       "\n",
       "   Distance  Origin Population  Destination Population          city1_x  \\\n",
       "0     852.0             811232                 3087755       Albany, NY   \n",
       "1     723.0             811232                16395048       Albany, NY   \n",
       "2     488.0             811232                 8503650       Albany, NY   \n",
       "3     212.0             811232                10881988       Albany, NY   \n",
       "4    1117.0             601893                16395048  Albuquerque, NM   \n",
       "\n",
       "            city2_x  year  month_x  quarter year-month_y city1_y city2_y  \\\n",
       "0       Atlanta, GA  1990        1        1          NaT     NaN     NaN   \n",
       "1       Chicago, IL  1990        1        1          NaT     NaN     NaN   \n",
       "2       Detroit, MI  1990        1        1          NaT     NaN     NaN   \n",
       "3  Philadelphia, PA  1990        1        1          NaT     NaN     NaN   \n",
       "4       Chicago, IL  1990        1        1          NaT     NaN     NaN   \n",
       "\n",
       "   fare  month_y  \n",
       "0   NaN      NaN  \n",
       "1   NaN      NaN  \n",
       "2   NaN      NaN  \n",
       "3   NaN      NaN  \n",
       "4   NaN      NaN  "
      ]
     },
     "execution_count": 39,
     "metadata": {},
     "output_type": "execute_result"
    }
   ],
   "source": [
    "final = pd.merge(flights, airfare, how='left', on=['market_city', 'quarter', 'year'])\n",
    "final.head()"
   ]
  },
  {
   "cell_type": "code",
   "execution_count": 40,
   "metadata": {},
   "outputs": [
    {
     "data": {
      "text/plain": [
       "year-month_x                   0\n",
       "market_city                    0\n",
       "Passengers                     0\n",
       "Seats                          0\n",
       "Flights                        0\n",
       "Distance                       0\n",
       "Origin Population              0\n",
       "Destination Population         0\n",
       "city1_x                        0\n",
       "city2_x                        0\n",
       "year                           0\n",
       "month_x                        0\n",
       "quarter                        0\n",
       "year-month_y              302712\n",
       "city1_y                   302712\n",
       "city2_y                   302712\n",
       "fare                      302712\n",
       "month_y                   302712\n",
       "dtype: int64"
      ]
     },
     "execution_count": 40,
     "metadata": {},
     "output_type": "execute_result"
    }
   ],
   "source": [
    "final.isnull().sum()"
   ]
  },
  {
   "cell_type": "code",
   "execution_count": 41,
   "metadata": {},
   "outputs": [
    {
     "data": {
      "text/plain": [
       "Index(['year-month_x', 'market_city', 'Passengers', 'Seats', 'Flights',\n",
       "       'Distance', 'Origin Population', 'Destination Population', 'city1_x',\n",
       "       'city2_x', 'year', 'month_x', 'quarter', 'year-month_y', 'city1_y',\n",
       "       'city2_y', 'fare', 'month_y'],\n",
       "      dtype='object')"
      ]
     },
     "execution_count": 41,
     "metadata": {},
     "output_type": "execute_result"
    }
   ],
   "source": [
    "final.columns"
   ]
  },
  {
   "cell_type": "code",
   "execution_count": 42,
   "metadata": {},
   "outputs": [
    {
     "data": {
      "text/html": [
       "<div>\n",
       "<style scoped>\n",
       "    .dataframe tbody tr th:only-of-type {\n",
       "        vertical-align: middle;\n",
       "    }\n",
       "\n",
       "    .dataframe tbody tr th {\n",
       "        vertical-align: top;\n",
       "    }\n",
       "\n",
       "    .dataframe thead th {\n",
       "        text-align: right;\n",
       "    }\n",
       "</style>\n",
       "<table border=\"1\" class=\"dataframe\">\n",
       "  <thead>\n",
       "    <tr style=\"text-align: right;\">\n",
       "      <th></th>\n",
       "      <th>year-month_x</th>\n",
       "      <th>market_city</th>\n",
       "      <th>Passengers</th>\n",
       "      <th>Seats</th>\n",
       "      <th>Flights</th>\n",
       "      <th>Distance</th>\n",
       "      <th>Origin Population</th>\n",
       "      <th>Destination Population</th>\n",
       "      <th>fare</th>\n",
       "    </tr>\n",
       "  </thead>\n",
       "  <tbody>\n",
       "    <tr>\n",
       "      <th>110017</th>\n",
       "      <td>1996-01-31</td>\n",
       "      <td>Albany, NY - Chicago, IL</td>\n",
       "      <td>10985</td>\n",
       "      <td>18579</td>\n",
       "      <td>175</td>\n",
       "      <td>723.000000</td>\n",
       "      <td>825245</td>\n",
       "      <td>17287860</td>\n",
       "      <td>273.90</td>\n",
       "    </tr>\n",
       "    <tr>\n",
       "      <th>110020</th>\n",
       "      <td>1996-01-31</td>\n",
       "      <td>Albuquerque, NM - Chicago, IL</td>\n",
       "      <td>5203</td>\n",
       "      <td>8604</td>\n",
       "      <td>62</td>\n",
       "      <td>1119.500000</td>\n",
       "      <td>680994</td>\n",
       "      <td>17287860</td>\n",
       "      <td>156.16</td>\n",
       "    </tr>\n",
       "    <tr>\n",
       "      <th>110021</th>\n",
       "      <td>1996-01-31</td>\n",
       "      <td>Albuquerque, NM - Dallas, TX</td>\n",
       "      <td>43467</td>\n",
       "      <td>69323</td>\n",
       "      <td>494</td>\n",
       "      <td>573.714286</td>\n",
       "      <td>680994</td>\n",
       "      <td>8994450</td>\n",
       "      <td>89.76</td>\n",
       "    </tr>\n",
       "    <tr>\n",
       "      <th>110023</th>\n",
       "      <td>1996-01-31</td>\n",
       "      <td>Albuquerque, NM - Houston, TX</td>\n",
       "      <td>13017</td>\n",
       "      <td>22992</td>\n",
       "      <td>186</td>\n",
       "      <td>750.000000</td>\n",
       "      <td>680994</td>\n",
       "      <td>4268132</td>\n",
       "      <td>104.98</td>\n",
       "    </tr>\n",
       "    <tr>\n",
       "      <th>110024</th>\n",
       "      <td>1996-01-31</td>\n",
       "      <td>Albuquerque, NM - Las Vegas, NV</td>\n",
       "      <td>16010</td>\n",
       "      <td>29919</td>\n",
       "      <td>223</td>\n",
       "      <td>487.000000</td>\n",
       "      <td>680994</td>\n",
       "      <td>1044023</td>\n",
       "      <td>77.06</td>\n",
       "    </tr>\n",
       "  </tbody>\n",
       "</table>\n",
       "</div>"
      ],
      "text/plain": [
       "       year-month_x                      market_city  Passengers  Seats  \\\n",
       "110017   1996-01-31         Albany, NY - Chicago, IL       10985  18579   \n",
       "110020   1996-01-31    Albuquerque, NM - Chicago, IL        5203   8604   \n",
       "110021   1996-01-31     Albuquerque, NM - Dallas, TX       43467  69323   \n",
       "110023   1996-01-31    Albuquerque, NM - Houston, TX       13017  22992   \n",
       "110024   1996-01-31  Albuquerque, NM - Las Vegas, NV       16010  29919   \n",
       "\n",
       "        Flights     Distance  Origin Population  Destination Population  \\\n",
       "110017      175   723.000000             825245                17287860   \n",
       "110020       62  1119.500000             680994                17287860   \n",
       "110021      494   573.714286             680994                 8994450   \n",
       "110023      186   750.000000             680994                 4268132   \n",
       "110024      223   487.000000             680994                 1044023   \n",
       "\n",
       "          fare  \n",
       "110017  273.90  \n",
       "110020  156.16  \n",
       "110021   89.76  \n",
       "110023  104.98  \n",
       "110024   77.06  "
      ]
     },
     "execution_count": 42,
     "metadata": {},
     "output_type": "execute_result"
    }
   ],
   "source": [
    "final = final.dropna().drop(columns=['city1_x', 'city2_x', 'year', 'month_x', 'quarter', 'year-month_y', 'city1_y', 'city2_y', 'month_y'])\n",
    "final.head()"
   ]
  },
  {
   "cell_type": "code",
   "execution_count": 43,
   "metadata": {},
   "outputs": [],
   "source": [
    "new_names = {'Destination Population' : 'pop_dest',\n",
    "'Distance' : 'dist_miles',\n",
    "'Flights' : 'num_of_flights',\n",
    "'Origin Population' : 'pop_origin',\n",
    "'Passengers' : 'passengers',\n",
    "'Seats' : 'seat_capacity',\n",
    "'fare' : 'airfare',\n",
    "'market_city' : 'route',\n",
    "'year-month_x' : 'year-month'}"
   ]
  },
  {
   "cell_type": "code",
   "execution_count": 44,
   "metadata": {},
   "outputs": [
    {
     "data": {
      "text/html": [
       "<div>\n",
       "<style scoped>\n",
       "    .dataframe tbody tr th:only-of-type {\n",
       "        vertical-align: middle;\n",
       "    }\n",
       "\n",
       "    .dataframe tbody tr th {\n",
       "        vertical-align: top;\n",
       "    }\n",
       "\n",
       "    .dataframe thead th {\n",
       "        text-align: right;\n",
       "    }\n",
       "</style>\n",
       "<table border=\"1\" class=\"dataframe\">\n",
       "  <thead>\n",
       "    <tr style=\"text-align: right;\">\n",
       "      <th></th>\n",
       "      <th>year-month</th>\n",
       "      <th>route</th>\n",
       "      <th>passengers</th>\n",
       "      <th>seat_capacity</th>\n",
       "      <th>num_of_flights</th>\n",
       "      <th>dist_miles</th>\n",
       "      <th>pop_origin</th>\n",
       "      <th>pop_dest</th>\n",
       "      <th>airfare</th>\n",
       "    </tr>\n",
       "  </thead>\n",
       "  <tbody>\n",
       "    <tr>\n",
       "      <th>110017</th>\n",
       "      <td>1996-01-31</td>\n",
       "      <td>Albany, NY - Chicago, IL</td>\n",
       "      <td>10985</td>\n",
       "      <td>18579</td>\n",
       "      <td>175</td>\n",
       "      <td>723.000000</td>\n",
       "      <td>825245</td>\n",
       "      <td>17287860</td>\n",
       "      <td>273.90</td>\n",
       "    </tr>\n",
       "    <tr>\n",
       "      <th>110020</th>\n",
       "      <td>1996-01-31</td>\n",
       "      <td>Albuquerque, NM - Chicago, IL</td>\n",
       "      <td>5203</td>\n",
       "      <td>8604</td>\n",
       "      <td>62</td>\n",
       "      <td>1119.500000</td>\n",
       "      <td>680994</td>\n",
       "      <td>17287860</td>\n",
       "      <td>156.16</td>\n",
       "    </tr>\n",
       "    <tr>\n",
       "      <th>110021</th>\n",
       "      <td>1996-01-31</td>\n",
       "      <td>Albuquerque, NM - Dallas, TX</td>\n",
       "      <td>43467</td>\n",
       "      <td>69323</td>\n",
       "      <td>494</td>\n",
       "      <td>573.714286</td>\n",
       "      <td>680994</td>\n",
       "      <td>8994450</td>\n",
       "      <td>89.76</td>\n",
       "    </tr>\n",
       "    <tr>\n",
       "      <th>110023</th>\n",
       "      <td>1996-01-31</td>\n",
       "      <td>Albuquerque, NM - Houston, TX</td>\n",
       "      <td>13017</td>\n",
       "      <td>22992</td>\n",
       "      <td>186</td>\n",
       "      <td>750.000000</td>\n",
       "      <td>680994</td>\n",
       "      <td>4268132</td>\n",
       "      <td>104.98</td>\n",
       "    </tr>\n",
       "    <tr>\n",
       "      <th>110024</th>\n",
       "      <td>1996-01-31</td>\n",
       "      <td>Albuquerque, NM - Las Vegas, NV</td>\n",
       "      <td>16010</td>\n",
       "      <td>29919</td>\n",
       "      <td>223</td>\n",
       "      <td>487.000000</td>\n",
       "      <td>680994</td>\n",
       "      <td>1044023</td>\n",
       "      <td>77.06</td>\n",
       "    </tr>\n",
       "  </tbody>\n",
       "</table>\n",
       "</div>"
      ],
      "text/plain": [
       "       year-month                            route  passengers  seat_capacity  \\\n",
       "110017 1996-01-31         Albany, NY - Chicago, IL       10985          18579   \n",
       "110020 1996-01-31    Albuquerque, NM - Chicago, IL        5203           8604   \n",
       "110021 1996-01-31     Albuquerque, NM - Dallas, TX       43467          69323   \n",
       "110023 1996-01-31    Albuquerque, NM - Houston, TX       13017          22992   \n",
       "110024 1996-01-31  Albuquerque, NM - Las Vegas, NV       16010          29919   \n",
       "\n",
       "        num_of_flights   dist_miles  pop_origin  pop_dest  airfare  \n",
       "110017             175   723.000000      825245  17287860   273.90  \n",
       "110020              62  1119.500000      680994  17287860   156.16  \n",
       "110021             494   573.714286      680994   8994450    89.76  \n",
       "110023             186   750.000000      680994   4268132   104.98  \n",
       "110024             223   487.000000      680994   1044023    77.06  "
      ]
     },
     "execution_count": 44,
     "metadata": {},
     "output_type": "execute_result"
    }
   ],
   "source": [
    "final = final.rename(columns=new_names)\n",
    "final.head()"
   ]
  },
  {
   "cell_type": "code",
   "execution_count": 45,
   "metadata": {},
   "outputs": [
    {
     "data": {
      "text/html": [
       "<div>\n",
       "<style scoped>\n",
       "    .dataframe tbody tr th:only-of-type {\n",
       "        vertical-align: middle;\n",
       "    }\n",
       "\n",
       "    .dataframe tbody tr th {\n",
       "        vertical-align: top;\n",
       "    }\n",
       "\n",
       "    .dataframe thead th {\n",
       "        text-align: right;\n",
       "    }\n",
       "</style>\n",
       "<table border=\"1\" class=\"dataframe\">\n",
       "  <thead>\n",
       "    <tr style=\"text-align: right;\">\n",
       "      <th></th>\n",
       "      <th>route</th>\n",
       "      <th>passengers</th>\n",
       "      <th>seat_capacity</th>\n",
       "      <th>num_of_flights</th>\n",
       "      <th>dist_miles</th>\n",
       "      <th>pop_origin</th>\n",
       "      <th>pop_dest</th>\n",
       "      <th>airfare</th>\n",
       "    </tr>\n",
       "    <tr>\n",
       "      <th>year-month</th>\n",
       "      <th></th>\n",
       "      <th></th>\n",
       "      <th></th>\n",
       "      <th></th>\n",
       "      <th></th>\n",
       "      <th></th>\n",
       "      <th></th>\n",
       "      <th></th>\n",
       "    </tr>\n",
       "  </thead>\n",
       "  <tbody>\n",
       "    <tr>\n",
       "      <th>1996-01-31</th>\n",
       "      <td>Albany, NY - Chicago, IL</td>\n",
       "      <td>10985</td>\n",
       "      <td>18579</td>\n",
       "      <td>175</td>\n",
       "      <td>723.000000</td>\n",
       "      <td>825245</td>\n",
       "      <td>17287860</td>\n",
       "      <td>273.90</td>\n",
       "    </tr>\n",
       "    <tr>\n",
       "      <th>1996-01-31</th>\n",
       "      <td>Albuquerque, NM - Chicago, IL</td>\n",
       "      <td>5203</td>\n",
       "      <td>8604</td>\n",
       "      <td>62</td>\n",
       "      <td>1119.500000</td>\n",
       "      <td>680994</td>\n",
       "      <td>17287860</td>\n",
       "      <td>156.16</td>\n",
       "    </tr>\n",
       "    <tr>\n",
       "      <th>1996-01-31</th>\n",
       "      <td>Albuquerque, NM - Dallas, TX</td>\n",
       "      <td>43467</td>\n",
       "      <td>69323</td>\n",
       "      <td>494</td>\n",
       "      <td>573.714286</td>\n",
       "      <td>680994</td>\n",
       "      <td>8994450</td>\n",
       "      <td>89.76</td>\n",
       "    </tr>\n",
       "    <tr>\n",
       "      <th>1996-01-31</th>\n",
       "      <td>Albuquerque, NM - Houston, TX</td>\n",
       "      <td>13017</td>\n",
       "      <td>22992</td>\n",
       "      <td>186</td>\n",
       "      <td>750.000000</td>\n",
       "      <td>680994</td>\n",
       "      <td>4268132</td>\n",
       "      <td>104.98</td>\n",
       "    </tr>\n",
       "    <tr>\n",
       "      <th>1996-01-31</th>\n",
       "      <td>Albuquerque, NM - Las Vegas, NV</td>\n",
       "      <td>16010</td>\n",
       "      <td>29919</td>\n",
       "      <td>223</td>\n",
       "      <td>487.000000</td>\n",
       "      <td>680994</td>\n",
       "      <td>1044023</td>\n",
       "      <td>77.06</td>\n",
       "    </tr>\n",
       "  </tbody>\n",
       "</table>\n",
       "</div>"
      ],
      "text/plain": [
       "                                      route  passengers  seat_capacity  \\\n",
       "year-month                                                               \n",
       "1996-01-31         Albany, NY - Chicago, IL       10985          18579   \n",
       "1996-01-31    Albuquerque, NM - Chicago, IL        5203           8604   \n",
       "1996-01-31     Albuquerque, NM - Dallas, TX       43467          69323   \n",
       "1996-01-31    Albuquerque, NM - Houston, TX       13017          22992   \n",
       "1996-01-31  Albuquerque, NM - Las Vegas, NV       16010          29919   \n",
       "\n",
       "            num_of_flights   dist_miles  pop_origin  pop_dest  airfare  \n",
       "year-month                                                              \n",
       "1996-01-31             175   723.000000      825245  17287860   273.90  \n",
       "1996-01-31              62  1119.500000      680994  17287860   156.16  \n",
       "1996-01-31             494   573.714286      680994   8994450    89.76  \n",
       "1996-01-31             186   750.000000      680994   4268132   104.98  \n",
       "1996-01-31             223   487.000000      680994   1044023    77.06  "
      ]
     },
     "execution_count": 45,
     "metadata": {},
     "output_type": "execute_result"
    }
   ],
   "source": [
    "final = final.set_index('year-month')\n",
    "final.head()"
   ]
  },
  {
   "cell_type": "code",
   "execution_count": 46,
   "metadata": {},
   "outputs": [
    {
     "name": "stdout",
     "output_type": "stream",
     "text": [
      "(64008, 9)\n"
     ]
    },
    {
     "data": {
      "text/html": [
       "<div>\n",
       "<style scoped>\n",
       "    .dataframe tbody tr th:only-of-type {\n",
       "        vertical-align: middle;\n",
       "    }\n",
       "\n",
       "    .dataframe tbody tr th {\n",
       "        vertical-align: top;\n",
       "    }\n",
       "\n",
       "    .dataframe thead th {\n",
       "        text-align: right;\n",
       "    }\n",
       "</style>\n",
       "<table border=\"1\" class=\"dataframe\">\n",
       "  <thead>\n",
       "    <tr style=\"text-align: right;\">\n",
       "      <th></th>\n",
       "      <th>route</th>\n",
       "      <th>passengers</th>\n",
       "      <th>seat_capacity</th>\n",
       "      <th>num_of_flights</th>\n",
       "      <th>dist_miles</th>\n",
       "      <th>pop_origin</th>\n",
       "      <th>pop_dest</th>\n",
       "      <th>airfare</th>\n",
       "      <th>fuel_usd_pergallon</th>\n",
       "    </tr>\n",
       "    <tr>\n",
       "      <th>year-month</th>\n",
       "      <th></th>\n",
       "      <th></th>\n",
       "      <th></th>\n",
       "      <th></th>\n",
       "      <th></th>\n",
       "      <th></th>\n",
       "      <th></th>\n",
       "      <th></th>\n",
       "      <th></th>\n",
       "    </tr>\n",
       "  </thead>\n",
       "  <tbody>\n",
       "    <tr>\n",
       "      <th>1996-01-31</th>\n",
       "      <td>Albany, NY - Chicago, IL</td>\n",
       "      <td>10985</td>\n",
       "      <td>18579</td>\n",
       "      <td>175</td>\n",
       "      <td>723.000000</td>\n",
       "      <td>825245</td>\n",
       "      <td>17287860</td>\n",
       "      <td>273.90</td>\n",
       "      <td>0.55</td>\n",
       "    </tr>\n",
       "    <tr>\n",
       "      <th>1996-01-31</th>\n",
       "      <td>Albuquerque, NM - Chicago, IL</td>\n",
       "      <td>5203</td>\n",
       "      <td>8604</td>\n",
       "      <td>62</td>\n",
       "      <td>1119.500000</td>\n",
       "      <td>680994</td>\n",
       "      <td>17287860</td>\n",
       "      <td>156.16</td>\n",
       "      <td>0.55</td>\n",
       "    </tr>\n",
       "    <tr>\n",
       "      <th>1996-01-31</th>\n",
       "      <td>Albuquerque, NM - Dallas, TX</td>\n",
       "      <td>43467</td>\n",
       "      <td>69323</td>\n",
       "      <td>494</td>\n",
       "      <td>573.714286</td>\n",
       "      <td>680994</td>\n",
       "      <td>8994450</td>\n",
       "      <td>89.76</td>\n",
       "      <td>0.55</td>\n",
       "    </tr>\n",
       "    <tr>\n",
       "      <th>1996-01-31</th>\n",
       "      <td>Albuquerque, NM - Houston, TX</td>\n",
       "      <td>13017</td>\n",
       "      <td>22992</td>\n",
       "      <td>186</td>\n",
       "      <td>750.000000</td>\n",
       "      <td>680994</td>\n",
       "      <td>4268132</td>\n",
       "      <td>104.98</td>\n",
       "      <td>0.55</td>\n",
       "    </tr>\n",
       "    <tr>\n",
       "      <th>1996-01-31</th>\n",
       "      <td>Albuquerque, NM - Las Vegas, NV</td>\n",
       "      <td>16010</td>\n",
       "      <td>29919</td>\n",
       "      <td>223</td>\n",
       "      <td>487.000000</td>\n",
       "      <td>680994</td>\n",
       "      <td>1044023</td>\n",
       "      <td>77.06</td>\n",
       "      <td>0.55</td>\n",
       "    </tr>\n",
       "  </tbody>\n",
       "</table>\n",
       "</div>"
      ],
      "text/plain": [
       "                                      route  passengers  seat_capacity  \\\n",
       "year-month                                                               \n",
       "1996-01-31         Albany, NY - Chicago, IL       10985          18579   \n",
       "1996-01-31    Albuquerque, NM - Chicago, IL        5203           8604   \n",
       "1996-01-31     Albuquerque, NM - Dallas, TX       43467          69323   \n",
       "1996-01-31    Albuquerque, NM - Houston, TX       13017          22992   \n",
       "1996-01-31  Albuquerque, NM - Las Vegas, NV       16010          29919   \n",
       "\n",
       "            num_of_flights   dist_miles  pop_origin  pop_dest  airfare  \\\n",
       "year-month                                                               \n",
       "1996-01-31             175   723.000000      825245  17287860   273.90   \n",
       "1996-01-31              62  1119.500000      680994  17287860   156.16   \n",
       "1996-01-31             494   573.714286      680994   8994450    89.76   \n",
       "1996-01-31             186   750.000000      680994   4268132   104.98   \n",
       "1996-01-31             223   487.000000      680994   1044023    77.06   \n",
       "\n",
       "            fuel_usd_pergallon  \n",
       "year-month                      \n",
       "1996-01-31                0.55  \n",
       "1996-01-31                0.55  \n",
       "1996-01-31                0.55  \n",
       "1996-01-31                0.55  \n",
       "1996-01-31                0.55  "
      ]
     },
     "execution_count": 46,
     "metadata": {},
     "output_type": "execute_result"
    }
   ],
   "source": [
    "final = pd.merge(final, fuel, how='left', left_index=True, right_index=True)\n",
    "print(final.shape)\n",
    "final.head()"
   ]
  },
  {
   "cell_type": "code",
   "execution_count": 47,
   "metadata": {},
   "outputs": [
    {
     "data": {
      "text/plain": [
       "381"
      ]
     },
     "execution_count": 47,
     "metadata": {},
     "output_type": "execute_result"
    }
   ],
   "source": [
    "len(final.route.unique())"
   ]
  },
  {
   "cell_type": "code",
   "execution_count": 48,
   "metadata": {},
   "outputs": [
    {
     "data": {
      "text/plain": [
       "64008"
      ]
     },
     "execution_count": 48,
     "metadata": {},
     "output_type": "execute_result"
    }
   ],
   "source": [
    "381 * 168"
   ]
  },
  {
   "cell_type": "code",
   "execution_count": 49,
   "metadata": {},
   "outputs": [
    {
     "data": {
      "text/plain": [
       "Timestamp('2009-12-31 00:00:00')"
      ]
     },
     "execution_count": 49,
     "metadata": {},
     "output_type": "execute_result"
    }
   ],
   "source": [
    "final.index.max()"
   ]
  },
  {
   "cell_type": "code",
   "execution_count": 50,
   "metadata": {},
   "outputs": [
    {
     "data": {
      "text/plain": [
       "(64008, 9)"
      ]
     },
     "execution_count": 50,
     "metadata": {},
     "output_type": "execute_result"
    }
   ],
   "source": [
    "final.shape"
   ]
  },
  {
   "cell_type": "code",
   "execution_count": 51,
   "metadata": {},
   "outputs": [
    {
     "name": "stdout",
     "output_type": "stream",
     "text": [
      "168\n"
     ]
    },
    {
     "data": {
      "text/plain": [
       "Chicago, IL - Raleigh, NC          168\n",
       "Atlanta, GA - Austin, TX           168\n",
       "Albuquerque, NM - Houston, TX      168\n",
       "Dallas, TX - New Orleans, LA       168\n",
       "Dallas, TX - Tulsa, OK             168\n",
       "                                  ... \n",
       "Houston, TX - Los Angeles, CA      168\n",
       "El Paso, TX - San Antonio, TX      168\n",
       "Houston, TX - San Francisco, CA    168\n",
       "Dallas, TX - Milwaukee, WI         168\n",
       "Atlanta, GA - San Antonio, TX      168\n",
       "Name: route, Length: 381, dtype: int64"
      ]
     },
     "execution_count": 51,
     "metadata": {},
     "output_type": "execute_result"
    }
   ],
   "source": [
    "# Verify that the each route has the exact same amount of data\n",
    "print(len(final.index.unique()))\n",
    "final.route.value_counts()"
   ]
  },
  {
   "cell_type": "code",
   "execution_count": 52,
   "metadata": {},
   "outputs": [],
   "source": [
    "final.to_csv('./data/clean/combined.csv')"
   ]
  },
  {
   "cell_type": "code",
   "execution_count": 61,
   "metadata": {},
   "outputs": [
    {
     "name": "stdout",
     "output_type": "stream",
     "text": [
      "First Month: 1996-01-31 00:00:00\n",
      "Last Month: 2009-12-31 00:00:00\n",
      "Total Months: 168\n",
      "Number of Months for Training Dataset: 134\n",
      "Number of Months for Testing Dataset: 34\n"
     ]
    }
   ],
   "source": [
    "# Split final dataset into training and testing datasets\n",
    "# for testing we will remove the airfare column to see how our regression model performs on unseen data\n",
    "train_data_percentage = 0.80\n",
    "\n",
    "print(f'First Month: {final.index.min()}')\n",
    "print(f'Last Month: {final.index.max()}')\n",
    "print(f'Total Months: {len(final.index.unique())}')\n",
    "\n",
    "print(f'Number of Months for Training Dataset: {round(len(final.index.unique()) * train_data_percentage)}')\n",
    "print(f'Number of Months for Testing Dataset: {round(len(final.index.unique()) * (1 - train_data_percentage))}')"
   ]
  },
  {
   "cell_type": "code",
   "execution_count": 81,
   "metadata": {},
   "outputs": [
    {
     "name": "stdout",
     "output_type": "stream",
     "text": [
      "132\n",
      "36\n"
     ]
    }
   ],
   "source": [
    "print(len(sorted(final.index.unique())[:132]))\n",
    "print(len(sorted(final.index.unique())[132:]))"
   ]
  },
  {
   "cell_type": "code",
   "execution_count": 82,
   "metadata": {},
   "outputs": [
    {
     "name": "stdout",
     "output_type": "stream",
     "text": [
      "1996-01-31 00:00:00\n",
      "2006-12-31 00:00:00\n"
     ]
    }
   ],
   "source": [
    "print(sorted(final.index.unique())[0])\n",
    "print(sorted(final.index.unique())[131])"
   ]
  },
  {
   "cell_type": "code",
   "execution_count": 83,
   "metadata": {},
   "outputs": [
    {
     "data": {
      "text/plain": [
       "(50292, 9)"
      ]
     },
     "execution_count": 83,
     "metadata": {},
     "output_type": "execute_result"
    }
   ],
   "source": [
    "final.loc['1996-01-31':'2006-12-31'].shape"
   ]
  },
  {
   "cell_type": "code",
   "execution_count": 84,
   "metadata": {},
   "outputs": [
    {
     "name": "stdout",
     "output_type": "stream",
     "text": [
      "2007-01-31 00:00:00\n",
      "2009-12-31 00:00:00\n"
     ]
    }
   ],
   "source": [
    "print(sorted(final.index.unique())[132])\n",
    "print(sorted(final.index.unique())[167])"
   ]
  },
  {
   "cell_type": "code",
   "execution_count": 85,
   "metadata": {},
   "outputs": [
    {
     "data": {
      "text/plain": [
       "(13716, 9)"
      ]
     },
     "execution_count": 85,
     "metadata": {},
     "output_type": "execute_result"
    }
   ],
   "source": [
    "final.loc['2007-01-31':'2009-12-31'].shape"
   ]
  },
  {
   "cell_type": "code",
   "execution_count": 88,
   "metadata": {},
   "outputs": [],
   "source": [
    "# splitting combined data into two datasets train and test so I can test my trained model on unseen data!\n",
    "final.loc['1996-01-31':'2006-12-31'].to_csv('./data/clean/train.csv')\n",
    "final.loc['2007-01-31':'2009-12-31'].to_csv('./data/clean/test.csv')"
   ]
  },
  {
   "cell_type": "code",
   "execution_count": null,
   "metadata": {},
   "outputs": [],
   "source": []
  }
 ],
 "metadata": {
  "kernelspec": {
   "display_name": "Python 3",
   "language": "python",
   "name": "python3"
  },
  "language_info": {
   "codemirror_mode": {
    "name": "ipython",
    "version": 3
   },
   "file_extension": ".py",
   "mimetype": "text/x-python",
   "name": "python",
   "nbconvert_exporter": "python",
   "pygments_lexer": "ipython3",
   "version": "3.6.10"
  }
 },
 "nbformat": 4,
 "nbformat_minor": 4
}
