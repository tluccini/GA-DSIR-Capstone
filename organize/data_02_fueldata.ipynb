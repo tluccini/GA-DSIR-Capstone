{
 "cells": [
  {
   "cell_type": "markdown",
   "metadata": {},
   "source": [
    "## In this notebook we will identify jet fuel pricing data"
   ]
  },
  {
   "cell_type": "code",
   "execution_count": 11,
   "metadata": {},
   "outputs": [],
   "source": [
    "import pandas as pd"
   ]
  },
  {
   "cell_type": "code",
   "execution_count": 12,
   "metadata": {},
   "outputs": [
    {
     "name": "stdout",
     "output_type": "stream",
     "text": [
      "(365, 2)\n"
     ]
    },
    {
     "data": {
      "text/html": [
       "<div>\n",
       "<style scoped>\n",
       "    .dataframe tbody tr th:only-of-type {\n",
       "        vertical-align: middle;\n",
       "    }\n",
       "\n",
       "    .dataframe tbody tr th {\n",
       "        vertical-align: top;\n",
       "    }\n",
       "\n",
       "    .dataframe thead th {\n",
       "        text-align: right;\n",
       "    }\n",
       "</style>\n",
       "<table border=\"1\" class=\"dataframe\">\n",
       "  <thead>\n",
       "    <tr style=\"text-align: right;\">\n",
       "      <th></th>\n",
       "      <th>month_year</th>\n",
       "      <th>jet_fuel_price_per_gallon_usd</th>\n",
       "    </tr>\n",
       "  </thead>\n",
       "  <tbody>\n",
       "    <tr>\n",
       "      <th>0</th>\n",
       "      <td>Aug 2020</td>\n",
       "      <td>1.112</td>\n",
       "    </tr>\n",
       "    <tr>\n",
       "      <th>1</th>\n",
       "      <td>Jul 2020</td>\n",
       "      <td>1.084</td>\n",
       "    </tr>\n",
       "    <tr>\n",
       "      <th>2</th>\n",
       "      <td>Jun 2020</td>\n",
       "      <td>0.983</td>\n",
       "    </tr>\n",
       "    <tr>\n",
       "      <th>3</th>\n",
       "      <td>May 2020</td>\n",
       "      <td>0.686</td>\n",
       "    </tr>\n",
       "    <tr>\n",
       "      <th>4</th>\n",
       "      <td>Apr 2020</td>\n",
       "      <td>0.606</td>\n",
       "    </tr>\n",
       "  </tbody>\n",
       "</table>\n",
       "</div>"
      ],
      "text/plain": [
       "  month_year  jet_fuel_price_per_gallon_usd\n",
       "0   Aug 2020                          1.112\n",
       "1   Jul 2020                          1.084\n",
       "2   Jun 2020                          0.983\n",
       "3   May 2020                          0.686\n",
       "4   Apr 2020                          0.606"
      ]
     },
     "execution_count": 12,
     "metadata": {},
     "output_type": "execute_result"
    }
   ],
   "source": [
    "# https://stackoverflow.com/questions/20637439/skip-rows-during-csv-import-pandas\n",
    "\n",
    "fuel = pd.read_csv('./data/raw/U.S._Gulf_Coast_Kerosene-Type_Jet_Fuel_Spot_Price_FOB_Monthly.csv', skiprows=4).rename(columns={'Month' : 'month_year', 'Series ID: PET.EER_EPJK_PF4_RGC_DPG.M Dollars per Gallon' : 'jet_fuel_price_per_gallon_usd'})\n",
    "print(fuel.shape)\n",
    "fuel.head()"
   ]
  },
  {
   "cell_type": "code",
   "execution_count": 13,
   "metadata": {},
   "outputs": [
    {
     "data": {
      "text/html": [
       "<div>\n",
       "<style scoped>\n",
       "    .dataframe tbody tr th:only-of-type {\n",
       "        vertical-align: middle;\n",
       "    }\n",
       "\n",
       "    .dataframe tbody tr th {\n",
       "        vertical-align: top;\n",
       "    }\n",
       "\n",
       "    .dataframe thead th {\n",
       "        text-align: right;\n",
       "    }\n",
       "</style>\n",
       "<table border=\"1\" class=\"dataframe\">\n",
       "  <thead>\n",
       "    <tr style=\"text-align: right;\">\n",
       "      <th></th>\n",
       "      <th>month_year</th>\n",
       "      <th>jet_fuel_price_per_gallon_usd</th>\n",
       "      <th>year</th>\n",
       "      <th>month</th>\n",
       "    </tr>\n",
       "  </thead>\n",
       "  <tbody>\n",
       "    <tr>\n",
       "      <th>0</th>\n",
       "      <td>Aug 2020</td>\n",
       "      <td>1.112</td>\n",
       "      <td>2020</td>\n",
       "      <td>8</td>\n",
       "    </tr>\n",
       "    <tr>\n",
       "      <th>1</th>\n",
       "      <td>Jul 2020</td>\n",
       "      <td>1.084</td>\n",
       "      <td>2020</td>\n",
       "      <td>7</td>\n",
       "    </tr>\n",
       "    <tr>\n",
       "      <th>2</th>\n",
       "      <td>Jun 2020</td>\n",
       "      <td>0.983</td>\n",
       "      <td>2020</td>\n",
       "      <td>6</td>\n",
       "    </tr>\n",
       "    <tr>\n",
       "      <th>3</th>\n",
       "      <td>May 2020</td>\n",
       "      <td>0.686</td>\n",
       "      <td>2020</td>\n",
       "      <td>5</td>\n",
       "    </tr>\n",
       "    <tr>\n",
       "      <th>4</th>\n",
       "      <td>Apr 2020</td>\n",
       "      <td>0.606</td>\n",
       "      <td>2020</td>\n",
       "      <td>4</td>\n",
       "    </tr>\n",
       "  </tbody>\n",
       "</table>\n",
       "</div>"
      ],
      "text/plain": [
       "  month_year  jet_fuel_price_per_gallon_usd  year  month\n",
       "0   Aug 2020                          1.112  2020      8\n",
       "1   Jul 2020                          1.084  2020      7\n",
       "2   Jun 2020                          0.983  2020      6\n",
       "3   May 2020                          0.686  2020      5\n",
       "4   Apr 2020                          0.606  2020      4"
      ]
     },
     "execution_count": 13,
     "metadata": {},
     "output_type": "execute_result"
    }
   ],
   "source": [
    "# Create Year & Month Column\n",
    "fuel['year'] = fuel['month_year'].apply(lambda x: int(x[4:8]))\n",
    "fuel['month'] = fuel['month_year'].apply(lambda x: x[0:3]).map({'Jan' : 1, 'Feb' : 2, 'Mar' : 3, 'Apr' : 4, 'May' : 5, 'Jun' : 6, 'Jul' : 7, 'Aug' : 8, 'Sep' : 9, 'Oct' : 10, 'Nov' : 11, 'Dec' : 12})\n",
    "fuel.head()"
   ]
  },
  {
   "cell_type": "code",
   "execution_count": 14,
   "metadata": {},
   "outputs": [
    {
     "data": {
      "text/html": [
       "<div>\n",
       "<style scoped>\n",
       "    .dataframe tbody tr th:only-of-type {\n",
       "        vertical-align: middle;\n",
       "    }\n",
       "\n",
       "    .dataframe tbody tr th {\n",
       "        vertical-align: top;\n",
       "    }\n",
       "\n",
       "    .dataframe thead th {\n",
       "        text-align: right;\n",
       "    }\n",
       "</style>\n",
       "<table border=\"1\" class=\"dataframe\">\n",
       "  <thead>\n",
       "    <tr style=\"text-align: right;\">\n",
       "      <th></th>\n",
       "      <th>month_year</th>\n",
       "      <th>jet_fuel_price_per_gallon_usd</th>\n",
       "      <th>year</th>\n",
       "      <th>month</th>\n",
       "      <th>year-month</th>\n",
       "    </tr>\n",
       "  </thead>\n",
       "  <tbody>\n",
       "    <tr>\n",
       "      <th>0</th>\n",
       "      <td>Aug 2020</td>\n",
       "      <td>1.112</td>\n",
       "      <td>2020</td>\n",
       "      <td>8</td>\n",
       "      <td>2020-08-31</td>\n",
       "    </tr>\n",
       "    <tr>\n",
       "      <th>1</th>\n",
       "      <td>Jul 2020</td>\n",
       "      <td>1.084</td>\n",
       "      <td>2020</td>\n",
       "      <td>7</td>\n",
       "      <td>2020-07-31</td>\n",
       "    </tr>\n",
       "    <tr>\n",
       "      <th>2</th>\n",
       "      <td>Jun 2020</td>\n",
       "      <td>0.983</td>\n",
       "      <td>2020</td>\n",
       "      <td>6</td>\n",
       "      <td>2020-06-30</td>\n",
       "    </tr>\n",
       "    <tr>\n",
       "      <th>3</th>\n",
       "      <td>May 2020</td>\n",
       "      <td>0.686</td>\n",
       "      <td>2020</td>\n",
       "      <td>5</td>\n",
       "      <td>2020-05-31</td>\n",
       "    </tr>\n",
       "    <tr>\n",
       "      <th>4</th>\n",
       "      <td>Apr 2020</td>\n",
       "      <td>0.606</td>\n",
       "      <td>2020</td>\n",
       "      <td>4</td>\n",
       "      <td>2020-04-30</td>\n",
       "    </tr>\n",
       "  </tbody>\n",
       "</table>\n",
       "</div>"
      ],
      "text/plain": [
       "  month_year  jet_fuel_price_per_gallon_usd  year  month year-month\n",
       "0   Aug 2020                          1.112  2020      8 2020-08-31\n",
       "1   Jul 2020                          1.084  2020      7 2020-07-31\n",
       "2   Jun 2020                          0.983  2020      6 2020-06-30\n",
       "3   May 2020                          0.686  2020      5 2020-05-31\n",
       "4   Apr 2020                          0.606  2020      4 2020-04-30"
      ]
     },
     "execution_count": 14,
     "metadata": {},
     "output_type": "execute_result"
    }
   ],
   "source": [
    "# Create Datetime Column\n",
    "monthly = fuel['year'].astype(int).astype(str) + 'M' + fuel['month'].astype(int).astype(str)\n",
    "from statsmodels.tsa.base.datetools import dates_from_str\n",
    "monthly = dates_from_str(monthly)\n",
    "fuel['year-month']= pd.DatetimeIndex(monthly)\n",
    "fuel.head()"
   ]
  },
  {
   "cell_type": "code",
   "execution_count": 15,
   "metadata": {},
   "outputs": [
    {
     "data": {
      "text/html": [
       "<div>\n",
       "<style scoped>\n",
       "    .dataframe tbody tr th:only-of-type {\n",
       "        vertical-align: middle;\n",
       "    }\n",
       "\n",
       "    .dataframe tbody tr th {\n",
       "        vertical-align: top;\n",
       "    }\n",
       "\n",
       "    .dataframe thead th {\n",
       "        text-align: right;\n",
       "    }\n",
       "</style>\n",
       "<table border=\"1\" class=\"dataframe\">\n",
       "  <thead>\n",
       "    <tr style=\"text-align: right;\">\n",
       "      <th></th>\n",
       "      <th>fuel_usd_pergallon</th>\n",
       "    </tr>\n",
       "    <tr>\n",
       "      <th>year-month</th>\n",
       "      <th></th>\n",
       "    </tr>\n",
       "  </thead>\n",
       "  <tbody>\n",
       "    <tr>\n",
       "      <th>1990-04-30</th>\n",
       "      <td>0.540</td>\n",
       "    </tr>\n",
       "    <tr>\n",
       "      <th>1990-05-31</th>\n",
       "      <td>0.515</td>\n",
       "    </tr>\n",
       "    <tr>\n",
       "      <th>1990-06-30</th>\n",
       "      <td>0.494</td>\n",
       "    </tr>\n",
       "    <tr>\n",
       "      <th>1990-07-31</th>\n",
       "      <td>0.535</td>\n",
       "    </tr>\n",
       "    <tr>\n",
       "      <th>1990-08-31</th>\n",
       "      <td>0.791</td>\n",
       "    </tr>\n",
       "  </tbody>\n",
       "</table>\n",
       "</div>"
      ],
      "text/plain": [
       "            fuel_usd_pergallon\n",
       "year-month                    \n",
       "1990-04-30               0.540\n",
       "1990-05-31               0.515\n",
       "1990-06-30               0.494\n",
       "1990-07-31               0.535\n",
       "1990-08-31               0.791"
      ]
     },
     "execution_count": 15,
     "metadata": {},
     "output_type": "execute_result"
    }
   ],
   "source": [
    "fuel = fuel.set_index('year-month').sort_index().drop(columns=['year', 'month', 'month_year']).rename(columns={'jet_fuel_price_per_gallon_usd' : 'fuel_usd_pergallon'})\n",
    "fuel.head()"
   ]
  },
  {
   "cell_type": "code",
   "execution_count": 17,
   "metadata": {},
   "outputs": [],
   "source": [
    "fuel.to_csv('./data/clean/fuelpricing_bymonth.csv')"
   ]
  },
  {
   "cell_type": "code",
   "execution_count": null,
   "metadata": {},
   "outputs": [],
   "source": []
  }
 ],
 "metadata": {
  "kernelspec": {
   "display_name": "Python 3",
   "language": "python",
   "name": "python3"
  },
  "language_info": {
   "codemirror_mode": {
    "name": "ipython",
    "version": 3
   },
   "file_extension": ".py",
   "mimetype": "text/x-python",
   "name": "python",
   "nbconvert_exporter": "python",
   "pygments_lexer": "ipython3",
   "version": "3.6.10"
  }
 },
 "nbformat": 4,
 "nbformat_minor": 4
}
